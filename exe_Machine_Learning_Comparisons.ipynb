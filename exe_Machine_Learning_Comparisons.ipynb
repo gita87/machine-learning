{
  "nbformat": 4,
  "nbformat_minor": 0,
  "metadata": {
    "colab": {
      "name": "exe: Machine Learning Comparisons.ipynb",
      "provenance": [],
      "collapsed_sections": []
    },
    "kernelspec": {
      "name": "python3",
      "display_name": "Python 3"
    },
    "language_info": {
      "name": "python"
    }
  },
  "cells": [
    {
      "cell_type": "markdown",
      "metadata": {
        "id": "DxMICqEMk3cc"
      },
      "source": [
        "ACCURACY CALCULATION FOR MACHINE-LEARNINGS COMPARISON\n",
        "\n",
        "> Indented block\n",
        "\n"
      ]
    },
    {
      "cell_type": "markdown",
      "metadata": {
        "id": "0-rC7uHMlIDr"
      },
      "source": [
        "USE CASE : HUMAN RESOURCE DATA"
      ]
    },
    {
      "cell_type": "code",
      "metadata": {
        "colab": {
          "resources": {
            "http://localhost:8080/nbextensions/google.colab/files.js": {
              "data": "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",
              "ok": true,
              "headers": [
                [
                  "content-type",
                  "application/javascript"
                ]
              ],
              "status": 200,
              "status_text": "OK"
            }
          },
          "base_uri": "https://localhost:8080/",
          "height": 75
        },
        "id": "flX9rsj50bvZ",
        "outputId": "887a6b4d-9953-4f5a-f9e5-2f3b56dd4ce3"
      },
      "source": [
        "from google.colab import files\n",
        "file = files.upload()"
      ],
      "execution_count": 45,
      "outputs": [
        {
          "output_type": "display_data",
          "data": {
            "text/html": [
              "\n",
              "     <input type=\"file\" id=\"files-4e075e76-7e9d-49a7-b742-e54d389f97eb\" name=\"files[]\" multiple disabled\n",
              "        style=\"border:none\" />\n",
              "     <output id=\"result-4e075e76-7e9d-49a7-b742-e54d389f97eb\">\n",
              "      Upload widget is only available when the cell has been executed in the\n",
              "      current browser session. Please rerun this cell to enable.\n",
              "      </output>\n",
              "      <script src=\"/nbextensions/google.colab/files.js\"></script> "
            ],
            "text/plain": [
              "<IPython.core.display.HTML object>"
            ]
          },
          "metadata": {}
        },
        {
          "output_type": "stream",
          "name": "stdout",
          "text": [
            "Saving 31. HR_comma_sep(1).csv to 31. HR_comma_sep(1) (1).csv\n"
          ]
        }
      ]
    },
    {
      "cell_type": "code",
      "metadata": {
        "id": "U1JdckWP0jn_"
      },
      "source": [
        "import pandas as pd"
      ],
      "execution_count": 2,
      "outputs": []
    },
    {
      "cell_type": "code",
      "metadata": {
        "colab": {
          "base_uri": "https://localhost:8080/",
          "height": 424
        },
        "id": "xgnDtdPz0wSe",
        "outputId": "d064073e-572e-408a-afba-fdbb2fbc2cd8"
      },
      "source": [
        "df = pd.read_csv('31. HR_comma_sep(1).csv')\n",
        "df"
      ],
      "execution_count": 46,
      "outputs": [
        {
          "output_type": "execute_result",
          "data": {
            "text/html": [
              "<div>\n",
              "<style scoped>\n",
              "    .dataframe tbody tr th:only-of-type {\n",
              "        vertical-align: middle;\n",
              "    }\n",
              "\n",
              "    .dataframe tbody tr th {\n",
              "        vertical-align: top;\n",
              "    }\n",
              "\n",
              "    .dataframe thead th {\n",
              "        text-align: right;\n",
              "    }\n",
              "</style>\n",
              "<table border=\"1\" class=\"dataframe\">\n",
              "  <thead>\n",
              "    <tr style=\"text-align: right;\">\n",
              "      <th></th>\n",
              "      <th>satisfaction_level</th>\n",
              "      <th>last_evaluation</th>\n",
              "      <th>number_project</th>\n",
              "      <th>average_montly_hours</th>\n",
              "      <th>time_spend_company</th>\n",
              "      <th>Work_accident</th>\n",
              "      <th>left</th>\n",
              "      <th>promotion_last_5years</th>\n",
              "      <th>sales</th>\n",
              "      <th>salary</th>\n",
              "    </tr>\n",
              "  </thead>\n",
              "  <tbody>\n",
              "    <tr>\n",
              "      <th>0</th>\n",
              "      <td>0.38</td>\n",
              "      <td>0.53</td>\n",
              "      <td>2</td>\n",
              "      <td>157</td>\n",
              "      <td>3</td>\n",
              "      <td>0</td>\n",
              "      <td>1</td>\n",
              "      <td>0</td>\n",
              "      <td>sales</td>\n",
              "      <td>low</td>\n",
              "    </tr>\n",
              "    <tr>\n",
              "      <th>1</th>\n",
              "      <td>0.80</td>\n",
              "      <td>0.86</td>\n",
              "      <td>5</td>\n",
              "      <td>262</td>\n",
              "      <td>6</td>\n",
              "      <td>0</td>\n",
              "      <td>1</td>\n",
              "      <td>0</td>\n",
              "      <td>sales</td>\n",
              "      <td>medium</td>\n",
              "    </tr>\n",
              "    <tr>\n",
              "      <th>2</th>\n",
              "      <td>0.11</td>\n",
              "      <td>0.88</td>\n",
              "      <td>7</td>\n",
              "      <td>272</td>\n",
              "      <td>4</td>\n",
              "      <td>0</td>\n",
              "      <td>1</td>\n",
              "      <td>0</td>\n",
              "      <td>sales</td>\n",
              "      <td>medium</td>\n",
              "    </tr>\n",
              "    <tr>\n",
              "      <th>3</th>\n",
              "      <td>0.72</td>\n",
              "      <td>0.87</td>\n",
              "      <td>5</td>\n",
              "      <td>223</td>\n",
              "      <td>5</td>\n",
              "      <td>0</td>\n",
              "      <td>1</td>\n",
              "      <td>0</td>\n",
              "      <td>sales</td>\n",
              "      <td>low</td>\n",
              "    </tr>\n",
              "    <tr>\n",
              "      <th>4</th>\n",
              "      <td>0.37</td>\n",
              "      <td>0.52</td>\n",
              "      <td>2</td>\n",
              "      <td>159</td>\n",
              "      <td>3</td>\n",
              "      <td>0</td>\n",
              "      <td>1</td>\n",
              "      <td>0</td>\n",
              "      <td>sales</td>\n",
              "      <td>low</td>\n",
              "    </tr>\n",
              "    <tr>\n",
              "      <th>...</th>\n",
              "      <td>...</td>\n",
              "      <td>...</td>\n",
              "      <td>...</td>\n",
              "      <td>...</td>\n",
              "      <td>...</td>\n",
              "      <td>...</td>\n",
              "      <td>...</td>\n",
              "      <td>...</td>\n",
              "      <td>...</td>\n",
              "      <td>...</td>\n",
              "    </tr>\n",
              "    <tr>\n",
              "      <th>14994</th>\n",
              "      <td>0.40</td>\n",
              "      <td>0.57</td>\n",
              "      <td>2</td>\n",
              "      <td>151</td>\n",
              "      <td>3</td>\n",
              "      <td>0</td>\n",
              "      <td>1</td>\n",
              "      <td>0</td>\n",
              "      <td>support</td>\n",
              "      <td>low</td>\n",
              "    </tr>\n",
              "    <tr>\n",
              "      <th>14995</th>\n",
              "      <td>0.37</td>\n",
              "      <td>0.48</td>\n",
              "      <td>2</td>\n",
              "      <td>160</td>\n",
              "      <td>3</td>\n",
              "      <td>0</td>\n",
              "      <td>1</td>\n",
              "      <td>0</td>\n",
              "      <td>support</td>\n",
              "      <td>low</td>\n",
              "    </tr>\n",
              "    <tr>\n",
              "      <th>14996</th>\n",
              "      <td>0.37</td>\n",
              "      <td>0.53</td>\n",
              "      <td>2</td>\n",
              "      <td>143</td>\n",
              "      <td>3</td>\n",
              "      <td>0</td>\n",
              "      <td>1</td>\n",
              "      <td>0</td>\n",
              "      <td>support</td>\n",
              "      <td>low</td>\n",
              "    </tr>\n",
              "    <tr>\n",
              "      <th>14997</th>\n",
              "      <td>0.11</td>\n",
              "      <td>0.96</td>\n",
              "      <td>6</td>\n",
              "      <td>280</td>\n",
              "      <td>4</td>\n",
              "      <td>0</td>\n",
              "      <td>1</td>\n",
              "      <td>0</td>\n",
              "      <td>support</td>\n",
              "      <td>low</td>\n",
              "    </tr>\n",
              "    <tr>\n",
              "      <th>14998</th>\n",
              "      <td>0.37</td>\n",
              "      <td>0.52</td>\n",
              "      <td>2</td>\n",
              "      <td>158</td>\n",
              "      <td>3</td>\n",
              "      <td>0</td>\n",
              "      <td>1</td>\n",
              "      <td>0</td>\n",
              "      <td>support</td>\n",
              "      <td>low</td>\n",
              "    </tr>\n",
              "  </tbody>\n",
              "</table>\n",
              "<p>14999 rows × 10 columns</p>\n",
              "</div>"
            ],
            "text/plain": [
              "       satisfaction_level  last_evaluation  ...    sales  salary\n",
              "0                    0.38             0.53  ...    sales     low\n",
              "1                    0.80             0.86  ...    sales  medium\n",
              "2                    0.11             0.88  ...    sales  medium\n",
              "3                    0.72             0.87  ...    sales     low\n",
              "4                    0.37             0.52  ...    sales     low\n",
              "...                   ...              ...  ...      ...     ...\n",
              "14994                0.40             0.57  ...  support     low\n",
              "14995                0.37             0.48  ...  support     low\n",
              "14996                0.37             0.53  ...  support     low\n",
              "14997                0.11             0.96  ...  support     low\n",
              "14998                0.37             0.52  ...  support     low\n",
              "\n",
              "[14999 rows x 10 columns]"
            ]
          },
          "metadata": {},
          "execution_count": 46
        }
      ]
    },
    {
      "cell_type": "markdown",
      "metadata": {
        "id": "fu9VVVUfkukO"
      },
      "source": [
        "1. ONE HOT ENCODER\n",
        "\n",
        "\n"
      ]
    },
    {
      "cell_type": "code",
      "metadata": {
        "id": "o2jxH15u1LIL"
      },
      "source": [
        "from sklearn.preprocessing import OrdinalEncoder, OneHotEncoder\n"
      ],
      "execution_count": 47,
      "outputs": []
    },
    {
      "cell_type": "markdown",
      "metadata": {
        "id": "ctLBAFSEmTKi"
      },
      "source": [
        "1.1 MANIPULATE CATEGORICAL VALUE TO NUMERIC VALUE\n",
        "\n",
        "---Because to makes object data type shift to numerical type. It's required for making array \n",
        "\n"
      ]
    },
    {
      "cell_type": "code",
      "metadata": {
        "colab": {
          "base_uri": "https://localhost:8080/"
        },
        "id": "qZOZlsCwmTur",
        "outputId": "a8937ac5-5de3-43ca-e846-fe84dc3ebefd"
      },
      "source": [
        "df['salary'].unique()"
      ],
      "execution_count": 48,
      "outputs": [
        {
          "output_type": "execute_result",
          "data": {
            "text/plain": [
              "array(['low', 'medium', 'high'], dtype=object)"
            ]
          },
          "metadata": {},
          "execution_count": 48
        }
      ]
    },
    {
      "cell_type": "code",
      "metadata": {
        "colab": {
          "base_uri": "https://localhost:8080/"
        },
        "id": "CqkrW15304tV",
        "outputId": "59f60cdf-b595-480c-b8f9-c6ac5d63e0c4"
      },
      "source": [
        "df['sales'].unique()"
      ],
      "execution_count": 49,
      "outputs": [
        {
          "output_type": "execute_result",
          "data": {
            "text/plain": [
              "array(['sales', 'accounting', 'hr', 'technical', 'support', 'management',\n",
              "       'IT', 'product_mng', 'marketing', 'RandD'], dtype=object)"
            ]
          },
          "metadata": {},
          "execution_count": 49
        }
      ]
    },
    {
      "cell_type": "markdown",
      "metadata": {
        "id": "ehBejw2apiPF"
      },
      "source": [
        "1.2 IMPORT SOME RELATED LIBRARIES and DEFINE VALUES TO BE MANUPULATED"
      ]
    },
    {
      "cell_type": "code",
      "metadata": {
        "id": "PaKnlnEppfDD"
      },
      "source": [
        "from sklearn.preprocessing import OrdinalEncoder\n",
        "from sklearn.preprocessing import OneHotEncoder\n",
        "\n",
        "#Values from salary and sales column are maniputed to be numeric type\n",
        "#enc_ode : encode for ordinal\n",
        "#enc_ohe : encode for one hot encoder\n",
        "\n",
        "enc_ode = OrdinalEncoder(categories=[['low','medium','high']])\n",
        "\n",
        "enc_ohe = OneHotEncoder(categories=[['sales', 'accounting', 'hr', \n",
        "                                     'technical', 'support', 'management',\n",
        "                                     'IT', 'product_mng', 'marketing', 'RandD']],\n",
        "                        handle_unknown='ignore', sparse = False)"
      ],
      "execution_count": 50,
      "outputs": []
    },
    {
      "cell_type": "markdown",
      "metadata": {
        "id": "wPP77mSRrWDa"
      },
      "source": [
        "# 1.3 TRANFORMS THE COLUMNS VALUES TO BE ARRAY"
      ]
    },
    {
      "cell_type": "code",
      "metadata": {
        "id": "kTl5aF8mpfHj"
      },
      "source": [
        "import numpy as np\n",
        "\n",
        "#Labelling encoder for ordinal data\n",
        "y = np.array(df['salary']).reshape(-1,1)\n",
        "enc_ode.fit(y)\n",
        "df['salary'] = enc_ode.transform(y)"
      ],
      "execution_count": 51,
      "outputs": []
    },
    {
      "cell_type": "code",
      "metadata": {
        "colab": {
          "base_uri": "https://localhost:8080/",
          "height": 206
        },
        "id": "6hBvkmmSpfOZ",
        "outputId": "08e5c44d-59c6-4e93-dff9-2da0f7cf30c6"
      },
      "source": [
        "df.head()"
      ],
      "execution_count": 52,
      "outputs": [
        {
          "output_type": "execute_result",
          "data": {
            "text/html": [
              "<div>\n",
              "<style scoped>\n",
              "    .dataframe tbody tr th:only-of-type {\n",
              "        vertical-align: middle;\n",
              "    }\n",
              "\n",
              "    .dataframe tbody tr th {\n",
              "        vertical-align: top;\n",
              "    }\n",
              "\n",
              "    .dataframe thead th {\n",
              "        text-align: right;\n",
              "    }\n",
              "</style>\n",
              "<table border=\"1\" class=\"dataframe\">\n",
              "  <thead>\n",
              "    <tr style=\"text-align: right;\">\n",
              "      <th></th>\n",
              "      <th>satisfaction_level</th>\n",
              "      <th>last_evaluation</th>\n",
              "      <th>number_project</th>\n",
              "      <th>average_montly_hours</th>\n",
              "      <th>time_spend_company</th>\n",
              "      <th>Work_accident</th>\n",
              "      <th>left</th>\n",
              "      <th>promotion_last_5years</th>\n",
              "      <th>sales</th>\n",
              "      <th>salary</th>\n",
              "    </tr>\n",
              "  </thead>\n",
              "  <tbody>\n",
              "    <tr>\n",
              "      <th>0</th>\n",
              "      <td>0.38</td>\n",
              "      <td>0.53</td>\n",
              "      <td>2</td>\n",
              "      <td>157</td>\n",
              "      <td>3</td>\n",
              "      <td>0</td>\n",
              "      <td>1</td>\n",
              "      <td>0</td>\n",
              "      <td>sales</td>\n",
              "      <td>0.0</td>\n",
              "    </tr>\n",
              "    <tr>\n",
              "      <th>1</th>\n",
              "      <td>0.80</td>\n",
              "      <td>0.86</td>\n",
              "      <td>5</td>\n",
              "      <td>262</td>\n",
              "      <td>6</td>\n",
              "      <td>0</td>\n",
              "      <td>1</td>\n",
              "      <td>0</td>\n",
              "      <td>sales</td>\n",
              "      <td>1.0</td>\n",
              "    </tr>\n",
              "    <tr>\n",
              "      <th>2</th>\n",
              "      <td>0.11</td>\n",
              "      <td>0.88</td>\n",
              "      <td>7</td>\n",
              "      <td>272</td>\n",
              "      <td>4</td>\n",
              "      <td>0</td>\n",
              "      <td>1</td>\n",
              "      <td>0</td>\n",
              "      <td>sales</td>\n",
              "      <td>1.0</td>\n",
              "    </tr>\n",
              "    <tr>\n",
              "      <th>3</th>\n",
              "      <td>0.72</td>\n",
              "      <td>0.87</td>\n",
              "      <td>5</td>\n",
              "      <td>223</td>\n",
              "      <td>5</td>\n",
              "      <td>0</td>\n",
              "      <td>1</td>\n",
              "      <td>0</td>\n",
              "      <td>sales</td>\n",
              "      <td>0.0</td>\n",
              "    </tr>\n",
              "    <tr>\n",
              "      <th>4</th>\n",
              "      <td>0.37</td>\n",
              "      <td>0.52</td>\n",
              "      <td>2</td>\n",
              "      <td>159</td>\n",
              "      <td>3</td>\n",
              "      <td>0</td>\n",
              "      <td>1</td>\n",
              "      <td>0</td>\n",
              "      <td>sales</td>\n",
              "      <td>0.0</td>\n",
              "    </tr>\n",
              "  </tbody>\n",
              "</table>\n",
              "</div>"
            ],
            "text/plain": [
              "   satisfaction_level  last_evaluation  ...  sales  salary\n",
              "0                0.38             0.53  ...  sales     0.0\n",
              "1                0.80             0.86  ...  sales     1.0\n",
              "2                0.11             0.88  ...  sales     1.0\n",
              "3                0.72             0.87  ...  sales     0.0\n",
              "4                0.37             0.52  ...  sales     0.0\n",
              "\n",
              "[5 rows x 10 columns]"
            ]
          },
          "metadata": {},
          "execution_count": 52
        }
      ]
    },
    {
      "cell_type": "code",
      "metadata": {
        "id": "FLY_Raw0pfRJ"
      },
      "source": [
        "#Now you can the different at salary column, they became numerical type"
      ],
      "execution_count": 53,
      "outputs": []
    },
    {
      "cell_type": "code",
      "metadata": {
        "colab": {
          "base_uri": "https://localhost:8080/"
        },
        "id": "lvCKXN8vvvf6",
        "outputId": "094673cf-0e70-4cf1-9b0e-997a2978752c"
      },
      "source": [
        "#Labelling for One Hot Encoder\n",
        "y = np.array(df['sales']).reshape(-1,1)\n",
        "enc_ohe.fit(y)\n",
        "\n",
        "y1 =  enc_ohe.transform(y)\n",
        "y1"
      ],
      "execution_count": 54,
      "outputs": [
        {
          "output_type": "execute_result",
          "data": {
            "text/plain": [
              "array([[1., 0., 0., ..., 0., 0., 0.],\n",
              "       [1., 0., 0., ..., 0., 0., 0.],\n",
              "       [1., 0., 0., ..., 0., 0., 0.],\n",
              "       ...,\n",
              "       [0., 0., 0., ..., 0., 0., 0.],\n",
              "       [0., 0., 0., ..., 0., 0., 0.],\n",
              "       [0., 0., 0., ..., 0., 0., 0.]])"
            ]
          },
          "metadata": {},
          "execution_count": 54
        }
      ]
    },
    {
      "cell_type": "code",
      "metadata": {
        "id": "orFrtDdbvvia"
      },
      "source": [
        "#At sales column, categorical type has been transfomed into numerical type"
      ],
      "execution_count": null,
      "outputs": []
    },
    {
      "cell_type": "code",
      "metadata": {
        "id": "d4ql15QIw0sh"
      },
      "source": [
        ""
      ],
      "execution_count": null,
      "outputs": []
    },
    {
      "cell_type": "markdown",
      "metadata": {
        "id": "kznY_Kb0wgCf"
      },
      "source": [
        "1.4 REMOVE ARRAY INTO DATABASE AND ADDING NEW COLUMNS"
      ]
    },
    {
      "cell_type": "code",
      "metadata": {
        "colab": {
          "base_uri": "https://localhost:8080/",
          "height": 226
        },
        "id": "EzR0p89Kvvk6",
        "outputId": "d82554c2-61fc-4786-f896-ffe5ec26b3b4"
      },
      "source": [
        "#array(['sales', 'accounting', 'hr', 'technical', 'support', 'management',\n",
        "#       'IT', 'product_mng', 'marketing', 'RandD'], dtype=object)\n",
        "df[['sales_sls', #sales \n",
        "      'sales_act', #acounting \n",
        "      'sales_hr', #HR\n",
        "      'sales_tec', #technical \n",
        "      'sales_sup', #suppport \n",
        "      'sales_mng', #management\n",
        "      'sales_it', #IT\n",
        "      'sales_pro',#product\n",
        "     'sales_mrk',#marketing\n",
        "      'sales_rnd']] = y1\n",
        "df.head()"
      ],
      "execution_count": 55,
      "outputs": [
        {
          "output_type": "execute_result",
          "data": {
            "text/html": [
              "<div>\n",
              "<style scoped>\n",
              "    .dataframe tbody tr th:only-of-type {\n",
              "        vertical-align: middle;\n",
              "    }\n",
              "\n",
              "    .dataframe tbody tr th {\n",
              "        vertical-align: top;\n",
              "    }\n",
              "\n",
              "    .dataframe thead th {\n",
              "        text-align: right;\n",
              "    }\n",
              "</style>\n",
              "<table border=\"1\" class=\"dataframe\">\n",
              "  <thead>\n",
              "    <tr style=\"text-align: right;\">\n",
              "      <th></th>\n",
              "      <th>satisfaction_level</th>\n",
              "      <th>last_evaluation</th>\n",
              "      <th>number_project</th>\n",
              "      <th>average_montly_hours</th>\n",
              "      <th>time_spend_company</th>\n",
              "      <th>Work_accident</th>\n",
              "      <th>left</th>\n",
              "      <th>promotion_last_5years</th>\n",
              "      <th>sales</th>\n",
              "      <th>salary</th>\n",
              "      <th>sales_sls</th>\n",
              "      <th>sales_act</th>\n",
              "      <th>sales_hr</th>\n",
              "      <th>sales_tec</th>\n",
              "      <th>sales_sup</th>\n",
              "      <th>sales_mng</th>\n",
              "      <th>sales_it</th>\n",
              "      <th>sales_pro</th>\n",
              "      <th>sales_mrk</th>\n",
              "      <th>sales_rnd</th>\n",
              "    </tr>\n",
              "  </thead>\n",
              "  <tbody>\n",
              "    <tr>\n",
              "      <th>0</th>\n",
              "      <td>0.38</td>\n",
              "      <td>0.53</td>\n",
              "      <td>2</td>\n",
              "      <td>157</td>\n",
              "      <td>3</td>\n",
              "      <td>0</td>\n",
              "      <td>1</td>\n",
              "      <td>0</td>\n",
              "      <td>sales</td>\n",
              "      <td>0.0</td>\n",
              "      <td>1.0</td>\n",
              "      <td>0.0</td>\n",
              "      <td>0.0</td>\n",
              "      <td>0.0</td>\n",
              "      <td>0.0</td>\n",
              "      <td>0.0</td>\n",
              "      <td>0.0</td>\n",
              "      <td>0.0</td>\n",
              "      <td>0.0</td>\n",
              "      <td>0.0</td>\n",
              "    </tr>\n",
              "    <tr>\n",
              "      <th>1</th>\n",
              "      <td>0.80</td>\n",
              "      <td>0.86</td>\n",
              "      <td>5</td>\n",
              "      <td>262</td>\n",
              "      <td>6</td>\n",
              "      <td>0</td>\n",
              "      <td>1</td>\n",
              "      <td>0</td>\n",
              "      <td>sales</td>\n",
              "      <td>1.0</td>\n",
              "      <td>1.0</td>\n",
              "      <td>0.0</td>\n",
              "      <td>0.0</td>\n",
              "      <td>0.0</td>\n",
              "      <td>0.0</td>\n",
              "      <td>0.0</td>\n",
              "      <td>0.0</td>\n",
              "      <td>0.0</td>\n",
              "      <td>0.0</td>\n",
              "      <td>0.0</td>\n",
              "    </tr>\n",
              "    <tr>\n",
              "      <th>2</th>\n",
              "      <td>0.11</td>\n",
              "      <td>0.88</td>\n",
              "      <td>7</td>\n",
              "      <td>272</td>\n",
              "      <td>4</td>\n",
              "      <td>0</td>\n",
              "      <td>1</td>\n",
              "      <td>0</td>\n",
              "      <td>sales</td>\n",
              "      <td>1.0</td>\n",
              "      <td>1.0</td>\n",
              "      <td>0.0</td>\n",
              "      <td>0.0</td>\n",
              "      <td>0.0</td>\n",
              "      <td>0.0</td>\n",
              "      <td>0.0</td>\n",
              "      <td>0.0</td>\n",
              "      <td>0.0</td>\n",
              "      <td>0.0</td>\n",
              "      <td>0.0</td>\n",
              "    </tr>\n",
              "    <tr>\n",
              "      <th>3</th>\n",
              "      <td>0.72</td>\n",
              "      <td>0.87</td>\n",
              "      <td>5</td>\n",
              "      <td>223</td>\n",
              "      <td>5</td>\n",
              "      <td>0</td>\n",
              "      <td>1</td>\n",
              "      <td>0</td>\n",
              "      <td>sales</td>\n",
              "      <td>0.0</td>\n",
              "      <td>1.0</td>\n",
              "      <td>0.0</td>\n",
              "      <td>0.0</td>\n",
              "      <td>0.0</td>\n",
              "      <td>0.0</td>\n",
              "      <td>0.0</td>\n",
              "      <td>0.0</td>\n",
              "      <td>0.0</td>\n",
              "      <td>0.0</td>\n",
              "      <td>0.0</td>\n",
              "    </tr>\n",
              "    <tr>\n",
              "      <th>4</th>\n",
              "      <td>0.37</td>\n",
              "      <td>0.52</td>\n",
              "      <td>2</td>\n",
              "      <td>159</td>\n",
              "      <td>3</td>\n",
              "      <td>0</td>\n",
              "      <td>1</td>\n",
              "      <td>0</td>\n",
              "      <td>sales</td>\n",
              "      <td>0.0</td>\n",
              "      <td>1.0</td>\n",
              "      <td>0.0</td>\n",
              "      <td>0.0</td>\n",
              "      <td>0.0</td>\n",
              "      <td>0.0</td>\n",
              "      <td>0.0</td>\n",
              "      <td>0.0</td>\n",
              "      <td>0.0</td>\n",
              "      <td>0.0</td>\n",
              "      <td>0.0</td>\n",
              "    </tr>\n",
              "  </tbody>\n",
              "</table>\n",
              "</div>"
            ],
            "text/plain": [
              "   satisfaction_level  last_evaluation  ...  sales_mrk  sales_rnd\n",
              "0                0.38             0.53  ...        0.0        0.0\n",
              "1                0.80             0.86  ...        0.0        0.0\n",
              "2                0.11             0.88  ...        0.0        0.0\n",
              "3                0.72             0.87  ...        0.0        0.0\n",
              "4                0.37             0.52  ...        0.0        0.0\n",
              "\n",
              "[5 rows x 20 columns]"
            ]
          },
          "metadata": {},
          "execution_count": 55
        }
      ]
    },
    {
      "cell_type": "code",
      "metadata": {
        "colab": {
          "base_uri": "https://localhost:8080/"
        },
        "id": "0VrA8OGNvvnh",
        "outputId": "07fbe84c-57e1-472b-ff70-8c64a74328d8"
      },
      "source": [
        "#Checking all the columns\n",
        "df.columns"
      ],
      "execution_count": 56,
      "outputs": [
        {
          "output_type": "execute_result",
          "data": {
            "text/plain": [
              "Index(['satisfaction_level', 'last_evaluation', 'number_project',\n",
              "       'average_montly_hours', 'time_spend_company', 'Work_accident', 'left',\n",
              "       'promotion_last_5years', 'sales', 'salary', 'sales_sls', 'sales_act',\n",
              "       'sales_hr', 'sales_tec', 'sales_sup', 'sales_mng', 'sales_it',\n",
              "       'sales_pro', 'sales_mrk', 'sales_rnd'],\n",
              "      dtype='object')"
            ]
          },
          "metadata": {},
          "execution_count": 56
        }
      ]
    },
    {
      "cell_type": "markdown",
      "metadata": {
        "id": "iiWYZy01x0Zp"
      },
      "source": [
        "1.5 MAKE DATA CLONE\n",
        "\n",
        "Using Data clone just to make sure, if there is any mistake, it do not make any change to the original data"
      ]
    },
    {
      "cell_type": "code",
      "metadata": {
        "colab": {
          "base_uri": "https://localhost:8080/",
          "height": 226
        },
        "id": "44hnvKNGvvpY",
        "outputId": "73d3a1f7-eac3-4fbd-b3ca-a7eb95c0d58d"
      },
      "source": [
        "df_clone = df[['satisfaction_level', 'last_evaluation', 'number_project',\n",
        "       'average_montly_hours', 'time_spend_company', 'Work_accident', 'left',\n",
        "       'promotion_last_5years', 'sales', 'salary', 'sales_sls', 'sales_act',\n",
        "       'sales_hr', 'sales_tec', 'sales_sup', 'sales_mng', 'sales_it',\n",
        "       'sales_pro', 'sales_mrk', 'sales_rnd']].copy()\n",
        "df_clone.head()"
      ],
      "execution_count": 57,
      "outputs": [
        {
          "output_type": "execute_result",
          "data": {
            "text/html": [
              "<div>\n",
              "<style scoped>\n",
              "    .dataframe tbody tr th:only-of-type {\n",
              "        vertical-align: middle;\n",
              "    }\n",
              "\n",
              "    .dataframe tbody tr th {\n",
              "        vertical-align: top;\n",
              "    }\n",
              "\n",
              "    .dataframe thead th {\n",
              "        text-align: right;\n",
              "    }\n",
              "</style>\n",
              "<table border=\"1\" class=\"dataframe\">\n",
              "  <thead>\n",
              "    <tr style=\"text-align: right;\">\n",
              "      <th></th>\n",
              "      <th>satisfaction_level</th>\n",
              "      <th>last_evaluation</th>\n",
              "      <th>number_project</th>\n",
              "      <th>average_montly_hours</th>\n",
              "      <th>time_spend_company</th>\n",
              "      <th>Work_accident</th>\n",
              "      <th>left</th>\n",
              "      <th>promotion_last_5years</th>\n",
              "      <th>sales</th>\n",
              "      <th>salary</th>\n",
              "      <th>sales_sls</th>\n",
              "      <th>sales_act</th>\n",
              "      <th>sales_hr</th>\n",
              "      <th>sales_tec</th>\n",
              "      <th>sales_sup</th>\n",
              "      <th>sales_mng</th>\n",
              "      <th>sales_it</th>\n",
              "      <th>sales_pro</th>\n",
              "      <th>sales_mrk</th>\n",
              "      <th>sales_rnd</th>\n",
              "    </tr>\n",
              "  </thead>\n",
              "  <tbody>\n",
              "    <tr>\n",
              "      <th>0</th>\n",
              "      <td>0.38</td>\n",
              "      <td>0.53</td>\n",
              "      <td>2</td>\n",
              "      <td>157</td>\n",
              "      <td>3</td>\n",
              "      <td>0</td>\n",
              "      <td>1</td>\n",
              "      <td>0</td>\n",
              "      <td>sales</td>\n",
              "      <td>0.0</td>\n",
              "      <td>1.0</td>\n",
              "      <td>0.0</td>\n",
              "      <td>0.0</td>\n",
              "      <td>0.0</td>\n",
              "      <td>0.0</td>\n",
              "      <td>0.0</td>\n",
              "      <td>0.0</td>\n",
              "      <td>0.0</td>\n",
              "      <td>0.0</td>\n",
              "      <td>0.0</td>\n",
              "    </tr>\n",
              "    <tr>\n",
              "      <th>1</th>\n",
              "      <td>0.80</td>\n",
              "      <td>0.86</td>\n",
              "      <td>5</td>\n",
              "      <td>262</td>\n",
              "      <td>6</td>\n",
              "      <td>0</td>\n",
              "      <td>1</td>\n",
              "      <td>0</td>\n",
              "      <td>sales</td>\n",
              "      <td>1.0</td>\n",
              "      <td>1.0</td>\n",
              "      <td>0.0</td>\n",
              "      <td>0.0</td>\n",
              "      <td>0.0</td>\n",
              "      <td>0.0</td>\n",
              "      <td>0.0</td>\n",
              "      <td>0.0</td>\n",
              "      <td>0.0</td>\n",
              "      <td>0.0</td>\n",
              "      <td>0.0</td>\n",
              "    </tr>\n",
              "    <tr>\n",
              "      <th>2</th>\n",
              "      <td>0.11</td>\n",
              "      <td>0.88</td>\n",
              "      <td>7</td>\n",
              "      <td>272</td>\n",
              "      <td>4</td>\n",
              "      <td>0</td>\n",
              "      <td>1</td>\n",
              "      <td>0</td>\n",
              "      <td>sales</td>\n",
              "      <td>1.0</td>\n",
              "      <td>1.0</td>\n",
              "      <td>0.0</td>\n",
              "      <td>0.0</td>\n",
              "      <td>0.0</td>\n",
              "      <td>0.0</td>\n",
              "      <td>0.0</td>\n",
              "      <td>0.0</td>\n",
              "      <td>0.0</td>\n",
              "      <td>0.0</td>\n",
              "      <td>0.0</td>\n",
              "    </tr>\n",
              "    <tr>\n",
              "      <th>3</th>\n",
              "      <td>0.72</td>\n",
              "      <td>0.87</td>\n",
              "      <td>5</td>\n",
              "      <td>223</td>\n",
              "      <td>5</td>\n",
              "      <td>0</td>\n",
              "      <td>1</td>\n",
              "      <td>0</td>\n",
              "      <td>sales</td>\n",
              "      <td>0.0</td>\n",
              "      <td>1.0</td>\n",
              "      <td>0.0</td>\n",
              "      <td>0.0</td>\n",
              "      <td>0.0</td>\n",
              "      <td>0.0</td>\n",
              "      <td>0.0</td>\n",
              "      <td>0.0</td>\n",
              "      <td>0.0</td>\n",
              "      <td>0.0</td>\n",
              "      <td>0.0</td>\n",
              "    </tr>\n",
              "    <tr>\n",
              "      <th>4</th>\n",
              "      <td>0.37</td>\n",
              "      <td>0.52</td>\n",
              "      <td>2</td>\n",
              "      <td>159</td>\n",
              "      <td>3</td>\n",
              "      <td>0</td>\n",
              "      <td>1</td>\n",
              "      <td>0</td>\n",
              "      <td>sales</td>\n",
              "      <td>0.0</td>\n",
              "      <td>1.0</td>\n",
              "      <td>0.0</td>\n",
              "      <td>0.0</td>\n",
              "      <td>0.0</td>\n",
              "      <td>0.0</td>\n",
              "      <td>0.0</td>\n",
              "      <td>0.0</td>\n",
              "      <td>0.0</td>\n",
              "      <td>0.0</td>\n",
              "      <td>0.0</td>\n",
              "    </tr>\n",
              "  </tbody>\n",
              "</table>\n",
              "</div>"
            ],
            "text/plain": [
              "   satisfaction_level  last_evaluation  ...  sales_mrk  sales_rnd\n",
              "0                0.38             0.53  ...        0.0        0.0\n",
              "1                0.80             0.86  ...        0.0        0.0\n",
              "2                0.11             0.88  ...        0.0        0.0\n",
              "3                0.72             0.87  ...        0.0        0.0\n",
              "4                0.37             0.52  ...        0.0        0.0\n",
              "\n",
              "[5 rows x 20 columns]"
            ]
          },
          "metadata": {},
          "execution_count": 57
        }
      ]
    },
    {
      "cell_type": "markdown",
      "metadata": {
        "id": "AkHZtGwH3nFC"
      },
      "source": [
        "2. DEFINE TARGET and PREDICTOR"
      ]
    },
    {
      "cell_type": "markdown",
      "metadata": {
        "id": "4puHYQ3P3x5Y"
      },
      "source": [
        "2.1 TARGET\n"
      ]
    },
    {
      "cell_type": "code",
      "metadata": {
        "colab": {
          "base_uri": "https://localhost:8080/",
          "height": 226
        },
        "id": "bL3O_AK-vvrh",
        "outputId": "1fe28ace-904d-4acb-92a8-22313506af36"
      },
      "source": [
        "df_x = df_clone[['satisfaction_level', 'last_evaluation', 'number_project',\n",
        "       'average_montly_hours', 'time_spend_company', 'Work_accident',\n",
        "       'promotion_last_5years', 'salary', 'sales_sls', 'sales_act',\n",
        "       'sales_hr', 'sales_tec', 'sales_sup', 'sales_mng', 'sales_it',\n",
        "       'sales_pro', 'sales_mrk', 'sales_rnd']].copy()\n",
        "df_x.head()"
      ],
      "execution_count": 58,
      "outputs": [
        {
          "output_type": "execute_result",
          "data": {
            "text/html": [
              "<div>\n",
              "<style scoped>\n",
              "    .dataframe tbody tr th:only-of-type {\n",
              "        vertical-align: middle;\n",
              "    }\n",
              "\n",
              "    .dataframe tbody tr th {\n",
              "        vertical-align: top;\n",
              "    }\n",
              "\n",
              "    .dataframe thead th {\n",
              "        text-align: right;\n",
              "    }\n",
              "</style>\n",
              "<table border=\"1\" class=\"dataframe\">\n",
              "  <thead>\n",
              "    <tr style=\"text-align: right;\">\n",
              "      <th></th>\n",
              "      <th>satisfaction_level</th>\n",
              "      <th>last_evaluation</th>\n",
              "      <th>number_project</th>\n",
              "      <th>average_montly_hours</th>\n",
              "      <th>time_spend_company</th>\n",
              "      <th>Work_accident</th>\n",
              "      <th>promotion_last_5years</th>\n",
              "      <th>salary</th>\n",
              "      <th>sales_sls</th>\n",
              "      <th>sales_act</th>\n",
              "      <th>sales_hr</th>\n",
              "      <th>sales_tec</th>\n",
              "      <th>sales_sup</th>\n",
              "      <th>sales_mng</th>\n",
              "      <th>sales_it</th>\n",
              "      <th>sales_pro</th>\n",
              "      <th>sales_mrk</th>\n",
              "      <th>sales_rnd</th>\n",
              "    </tr>\n",
              "  </thead>\n",
              "  <tbody>\n",
              "    <tr>\n",
              "      <th>0</th>\n",
              "      <td>0.38</td>\n",
              "      <td>0.53</td>\n",
              "      <td>2</td>\n",
              "      <td>157</td>\n",
              "      <td>3</td>\n",
              "      <td>0</td>\n",
              "      <td>0</td>\n",
              "      <td>0.0</td>\n",
              "      <td>1.0</td>\n",
              "      <td>0.0</td>\n",
              "      <td>0.0</td>\n",
              "      <td>0.0</td>\n",
              "      <td>0.0</td>\n",
              "      <td>0.0</td>\n",
              "      <td>0.0</td>\n",
              "      <td>0.0</td>\n",
              "      <td>0.0</td>\n",
              "      <td>0.0</td>\n",
              "    </tr>\n",
              "    <tr>\n",
              "      <th>1</th>\n",
              "      <td>0.80</td>\n",
              "      <td>0.86</td>\n",
              "      <td>5</td>\n",
              "      <td>262</td>\n",
              "      <td>6</td>\n",
              "      <td>0</td>\n",
              "      <td>0</td>\n",
              "      <td>1.0</td>\n",
              "      <td>1.0</td>\n",
              "      <td>0.0</td>\n",
              "      <td>0.0</td>\n",
              "      <td>0.0</td>\n",
              "      <td>0.0</td>\n",
              "      <td>0.0</td>\n",
              "      <td>0.0</td>\n",
              "      <td>0.0</td>\n",
              "      <td>0.0</td>\n",
              "      <td>0.0</td>\n",
              "    </tr>\n",
              "    <tr>\n",
              "      <th>2</th>\n",
              "      <td>0.11</td>\n",
              "      <td>0.88</td>\n",
              "      <td>7</td>\n",
              "      <td>272</td>\n",
              "      <td>4</td>\n",
              "      <td>0</td>\n",
              "      <td>0</td>\n",
              "      <td>1.0</td>\n",
              "      <td>1.0</td>\n",
              "      <td>0.0</td>\n",
              "      <td>0.0</td>\n",
              "      <td>0.0</td>\n",
              "      <td>0.0</td>\n",
              "      <td>0.0</td>\n",
              "      <td>0.0</td>\n",
              "      <td>0.0</td>\n",
              "      <td>0.0</td>\n",
              "      <td>0.0</td>\n",
              "    </tr>\n",
              "    <tr>\n",
              "      <th>3</th>\n",
              "      <td>0.72</td>\n",
              "      <td>0.87</td>\n",
              "      <td>5</td>\n",
              "      <td>223</td>\n",
              "      <td>5</td>\n",
              "      <td>0</td>\n",
              "      <td>0</td>\n",
              "      <td>0.0</td>\n",
              "      <td>1.0</td>\n",
              "      <td>0.0</td>\n",
              "      <td>0.0</td>\n",
              "      <td>0.0</td>\n",
              "      <td>0.0</td>\n",
              "      <td>0.0</td>\n",
              "      <td>0.0</td>\n",
              "      <td>0.0</td>\n",
              "      <td>0.0</td>\n",
              "      <td>0.0</td>\n",
              "    </tr>\n",
              "    <tr>\n",
              "      <th>4</th>\n",
              "      <td>0.37</td>\n",
              "      <td>0.52</td>\n",
              "      <td>2</td>\n",
              "      <td>159</td>\n",
              "      <td>3</td>\n",
              "      <td>0</td>\n",
              "      <td>0</td>\n",
              "      <td>0.0</td>\n",
              "      <td>1.0</td>\n",
              "      <td>0.0</td>\n",
              "      <td>0.0</td>\n",
              "      <td>0.0</td>\n",
              "      <td>0.0</td>\n",
              "      <td>0.0</td>\n",
              "      <td>0.0</td>\n",
              "      <td>0.0</td>\n",
              "      <td>0.0</td>\n",
              "      <td>0.0</td>\n",
              "    </tr>\n",
              "  </tbody>\n",
              "</table>\n",
              "</div>"
            ],
            "text/plain": [
              "   satisfaction_level  last_evaluation  ...  sales_mrk  sales_rnd\n",
              "0                0.38             0.53  ...        0.0        0.0\n",
              "1                0.80             0.86  ...        0.0        0.0\n",
              "2                0.11             0.88  ...        0.0        0.0\n",
              "3                0.72             0.87  ...        0.0        0.0\n",
              "4                0.37             0.52  ...        0.0        0.0\n",
              "\n",
              "[5 rows x 18 columns]"
            ]
          },
          "metadata": {},
          "execution_count": 58
        }
      ]
    },
    {
      "cell_type": "markdown",
      "metadata": {
        "id": "CgPIHfFa4H3F"
      },
      "source": [
        "2.2 PREDICTOR"
      ]
    },
    {
      "cell_type": "code",
      "metadata": {
        "colab": {
          "base_uri": "https://localhost:8080/"
        },
        "id": "Ea0U07y73mvb",
        "outputId": "4b247503-5f11-4c64-eb69-22b5c81f9c41"
      },
      "source": [
        "df_y = df_clone['left']\n",
        "#It use to predict which one empoyer who will be left company\n",
        "\n",
        "df_y.head()"
      ],
      "execution_count": 59,
      "outputs": [
        {
          "output_type": "execute_result",
          "data": {
            "text/plain": [
              "0    1\n",
              "1    1\n",
              "2    1\n",
              "3    1\n",
              "4    1\n",
              "Name: left, dtype: int64"
            ]
          },
          "metadata": {},
          "execution_count": 59
        }
      ]
    },
    {
      "cell_type": "code",
      "metadata": {
        "id": "zQbKq1VI5hqi"
      },
      "source": [
        ""
      ],
      "execution_count": null,
      "outputs": []
    },
    {
      "cell_type": "markdown",
      "metadata": {
        "id": "c7VL7TJt4tmR"
      },
      "source": [
        "3. APPLY MACHINE LEARNING"
      ]
    },
    {
      "cell_type": "code",
      "metadata": {
        "id": "O_aXAFd65VeQ"
      },
      "source": [
        "from sklearn.model_selection import train_test_split\n",
        "from sklearn.linear_model import LogisticRegression\n",
        "from sklearn.tree import DecisionTreeClassifier\n",
        "from sklearn.neighbors import KNeighborsClassifier\n",
        "\n",
        "from sklearn.metrics import accuracy_score"
      ],
      "execution_count": 60,
      "outputs": []
    },
    {
      "cell_type": "markdown",
      "metadata": {
        "id": "V3nXY1-m5brj"
      },
      "source": [
        "3.1 LOGISTIC REGRESSION"
      ]
    },
    {
      "cell_type": "code",
      "metadata": {
        "colab": {
          "base_uri": "https://localhost:8080/"
        },
        "id": "Yier_2Hk5Vhk",
        "outputId": "c80fa88a-794d-4ad0-94ab-ccf777f9822c"
      },
      "source": [
        "x_train, x_test, y_train, y_test = train_test_split(df_x, df_y, test_size=0.25, random_state=0)\n",
        "LR = LogisticRegression(max_iter=2000)\n",
        "LR.fit(x_train,y_train)"
      ],
      "execution_count": 61,
      "outputs": [
        {
          "output_type": "execute_result",
          "data": {
            "text/plain": [
              "LogisticRegression(C=1.0, class_weight=None, dual=False, fit_intercept=True,\n",
              "                   intercept_scaling=1, l1_ratio=None, max_iter=2000,\n",
              "                   multi_class='auto', n_jobs=None, penalty='l2',\n",
              "                   random_state=None, solver='lbfgs', tol=0.0001, verbose=0,\n",
              "                   warm_start=False)"
            ]
          },
          "metadata": {},
          "execution_count": 61
        }
      ]
    },
    {
      "cell_type": "code",
      "metadata": {
        "colab": {
          "base_uri": "https://localhost:8080/"
        },
        "id": "QnxMCtXf5Vk9",
        "outputId": "0fa3a3a2-9e0a-4588-abc4-5f75488bfe04"
      },
      "source": [
        "predictions = LR.predict(x_test)\n",
        "print(f'Logistic Regression accuracy score is : {accuracy_score(y_test, predictions)} ')"
      ],
      "execution_count": 62,
      "outputs": [
        {
          "output_type": "stream",
          "name": "stdout",
          "text": [
            "Logistic Regression accuracy score is : 0.7898666666666667 \n"
          ]
        }
      ]
    },
    {
      "cell_type": "code",
      "metadata": {
        "colab": {
          "base_uri": "https://localhost:8080/"
        },
        "id": "Uik7Dgq_5Vn4",
        "outputId": "f9505ce7-c241-4136-9405-612a49c1ace8"
      },
      "source": [
        "#Prediction with probability\n",
        "pred_prob = LR.predict_proba(x_test)\n",
        "pred_prob"
      ],
      "execution_count": 63,
      "outputs": [
        {
          "output_type": "execute_result",
          "data": {
            "text/plain": [
              "array([[0.72041324, 0.27958676],\n",
              "       [0.76605823, 0.23394177],\n",
              "       [0.96083466, 0.03916534],\n",
              "       ...,\n",
              "       [0.71808652, 0.28191348],\n",
              "       [0.80424776, 0.19575224],\n",
              "       [0.80824015, 0.19175985]])"
            ]
          },
          "metadata": {},
          "execution_count": 63
        }
      ]
    },
    {
      "cell_type": "markdown",
      "metadata": {
        "id": "0v6BMkoRB5nh"
      },
      "source": [
        "in that array it means the percentages of employer left probability. Like 0.72 says a employer would left the company with 72% probability"
      ]
    },
    {
      "cell_type": "code",
      "metadata": {
        "id": "r3qatlgiXnXD"
      },
      "source": [
        "from sklearn.metrics import confusion_matrix\n",
        "from sklearn.metrics import recall_score\n",
        "from sklearn.metrics import precision_score"
      ],
      "execution_count": 64,
      "outputs": []
    },
    {
      "cell_type": "code",
      "metadata": {
        "colab": {
          "base_uri": "https://localhost:8080/"
        },
        "id": "9CXlsrHKCgNz",
        "outputId": "7b624f26-ebf8-432a-a3de-bd0e0d14f940"
      },
      "source": [
        "print(f'Accuration for y_test : {accuracy_score(y_test,predictions)}')\n",
        "print(f'confussion matrix :\\n {confusion_matrix(predictions, y_test)}')\n",
        "print(f'recall precision : {precision_score(predictions, y_test)}')"
      ],
      "execution_count": 65,
      "outputs": [
        {
          "output_type": "stream",
          "name": "stdout",
          "text": [
            "Accuration for y_test : 0.7898666666666667\n",
            "confussion matrix :\n",
            " [[2660  567]\n",
            " [ 221  302]]\n",
            "recall precision : 0.3475258918296893\n"
          ]
        }
      ]
    },
    {
      "cell_type": "markdown",
      "metadata": {
        "id": "6SnHMwf8ENO4"
      },
      "source": [
        "confusion matrix is matrix between prediction with its true value"
      ]
    },
    {
      "cell_type": "code",
      "metadata": {
        "colab": {
          "base_uri": "https://localhost:8080/"
        },
        "id": "Hx6_CESRFNaF",
        "outputId": "8e5b19ea-716b-4dce-a1a8-adff7a080247"
      },
      "source": [
        "from collections import Counter\n",
        "\n",
        "Counter(y_train)"
      ],
      "execution_count": 66,
      "outputs": [
        {
          "output_type": "execute_result",
          "data": {
            "text/plain": [
              "Counter({0: 8547, 1: 2702})"
            ]
          },
          "metadata": {},
          "execution_count": 66
        }
      ]
    },
    {
      "cell_type": "markdown",
      "metadata": {
        "id": "aaJZcZDp44rp"
      },
      "source": [
        "3.1.1 LOGISTIC REGRESSION without SMOTE"
      ]
    },
    {
      "cell_type": "code",
      "metadata": {
        "colab": {
          "base_uri": "https://localhost:8080/"
        },
        "id": "nCxM9HSP44fw",
        "outputId": "f9af6a0d-d7a1-4f1e-a518-2348d3cb2257"
      },
      "source": [
        "clf = DecisionTreeClassifier(random_state=0, criterion='entropy', max_depth = 7)\n",
        "clf.fit(x_train, y_train)\n",
        "\n",
        "predictions = clf.predict(x_test)\n",
        "accuracy_score(y_test, predictions)"
      ],
      "execution_count": 67,
      "outputs": [
        {
          "output_type": "execute_result",
          "data": {
            "text/plain": [
              "0.9786666666666667"
            ]
          },
          "metadata": {},
          "execution_count": 67
        }
      ]
    },
    {
      "cell_type": "code",
      "metadata": {
        "colab": {
          "base_uri": "https://localhost:8080/"
        },
        "id": "_H8QKGrc3mxw",
        "outputId": "09ddd13e-0426-4b5c-b5c0-0b3566f6a7c2"
      },
      "source": [
        "\n",
        "print(confusion_matrix(y_test, predictions))\n",
        "print(recall_score(y_test, predictions))\n",
        "print(precision_score(y_test, predictions))"
      ],
      "execution_count": 68,
      "outputs": [
        {
          "output_type": "stream",
          "name": "stdout",
          "text": [
            "[[2864   17]\n",
            " [  63  806]]\n",
            "0.9275028768699655\n",
            "0.9793438639125152\n"
          ]
        }
      ]
    },
    {
      "cell_type": "markdown",
      "metadata": {
        "id": "jiXQh5RFDBj6"
      },
      "source": [
        "3.1.2 LOGISTIC REGRESSION WITH SMOTE[link text](https://)"
      ]
    },
    {
      "cell_type": "code",
      "metadata": {
        "id": "MtUxDOBk3m0S"
      },
      "source": [
        "from imblearn.over_sampling import SMOTE\n",
        "from collections import Counter\n",
        "\n",
        "sm = SMOTE(sampling_strategy = 0.5, k_neighbors=5, random_state=42)"
      ],
      "execution_count": 69,
      "outputs": []
    },
    {
      "cell_type": "code",
      "metadata": {
        "colab": {
          "base_uri": "https://localhost:8080/"
        },
        "id": "O_p0lGeVC_Fp",
        "outputId": "f577647c-11a0-4654-968f-4f1df8d1660b"
      },
      "source": [
        "Counter(y_train)"
      ],
      "execution_count": 39,
      "outputs": [
        {
          "output_type": "execute_result",
          "data": {
            "text/plain": [
              "Counter({0: 8547, 1: 2702})"
            ]
          },
          "metadata": {},
          "execution_count": 39
        }
      ]
    },
    {
      "cell_type": "code",
      "metadata": {
        "colab": {
          "base_uri": "https://localhost:8080/"
        },
        "id": "DXyckBSBC_KZ",
        "outputId": "22966df2-20f5-4167-a6e2-50b7899b62a9"
      },
      "source": [
        "x_res, y_res = sm.fit_resample(x_train, y_train)\n",
        "Counter(y_res)"
      ],
      "execution_count": 40,
      "outputs": [
        {
          "output_type": "stream",
          "name": "stderr",
          "text": [
            "/usr/local/lib/python3.7/dist-packages/sklearn/utils/deprecation.py:87: FutureWarning: Function safe_indexing is deprecated; safe_indexing is deprecated in version 0.22 and will be removed in version 0.24.\n",
            "  warnings.warn(msg, category=FutureWarning)\n"
          ]
        },
        {
          "output_type": "execute_result",
          "data": {
            "text/plain": [
              "Counter({0: 8547, 1: 4273})"
            ]
          },
          "metadata": {},
          "execution_count": 40
        }
      ]
    },
    {
      "cell_type": "code",
      "metadata": {
        "colab": {
          "base_uri": "https://localhost:8080/"
        },
        "id": "yoQh8zT9Dj6p",
        "outputId": "bfebaf4c-357d-47ab-b3bd-8573405400c2"
      },
      "source": [
        "print(confusion_matrix(y_test, predictions))\n",
        "print(recall_score(y_test, predictions))\n",
        "print(precision_score(y_test, predictions))"
      ],
      "execution_count": 70,
      "outputs": [
        {
          "output_type": "stream",
          "name": "stdout",
          "text": [
            "[[2864   17]\n",
            " [  63  806]]\n",
            "0.9275028768699655\n",
            "0.9793438639125152\n"
          ]
        }
      ]
    },
    {
      "cell_type": "markdown",
      "metadata": {
        "id": "Iy64uQqjag4R"
      },
      "source": [
        "3.2 KNN\n"
      ]
    },
    {
      "cell_type": "markdown",
      "metadata": {
        "id": "by4B42_HaxCg"
      },
      "source": [
        "3.2.1 KNN WITHOUT SMOTE"
      ]
    },
    {
      "cell_type": "code",
      "metadata": {
        "colab": {
          "base_uri": "https://localhost:8080/"
        },
        "id": "l-hqSX8HDkBs",
        "outputId": "1cfc4e7c-0ec6-4a5a-db48-5885884046c6"
      },
      "source": [
        "knn = KNeighborsClassifier(n_neighbors = 5)\n",
        "knn.fit(x_train, y_train)\n",
        "prediction = knn.predict(x_test)\n",
        "accuracy_score(y_test, prediction)\n"
      ],
      "execution_count": 71,
      "outputs": [
        {
          "output_type": "execute_result",
          "data": {
            "text/plain": [
              "0.9397333333333333"
            ]
          },
          "metadata": {},
          "execution_count": 71
        }
      ]
    },
    {
      "cell_type": "markdown",
      "metadata": {
        "id": "SCo6q74Rb14p"
      },
      "source": [
        "With KNN Methode, accuracy reaches 93%"
      ]
    },
    {
      "cell_type": "markdown",
      "metadata": {
        "id": "gEjCOfqrcG8q"
      },
      "source": [
        "3.2.2 KNN WITH SMOTE"
      ]
    },
    {
      "cell_type": "code",
      "metadata": {
        "colab": {
          "base_uri": "https://localhost:8080/"
        },
        "id": "7UMPBGyODkGI",
        "outputId": "fdb2fa99-54bb-46cc-955f-7d84abd06b3f"
      },
      "source": [
        "knn.fit(x_res, y_res)\n",
        "prediction = knn.predict(x_test)\n",
        "accuracy_score(y_test, predictions)"
      ],
      "execution_count": 74,
      "outputs": [
        {
          "output_type": "execute_result",
          "data": {
            "text/plain": [
              "0.9786666666666667"
            ]
          },
          "metadata": {},
          "execution_count": 74
        }
      ]
    },
    {
      "cell_type": "markdown",
      "metadata": {
        "id": "JpOd85aRfGVQ"
      },
      "source": [
        "3.3 DECISION TREEE"
      ]
    },
    {
      "cell_type": "code",
      "metadata": {
        "colab": {
          "base_uri": "https://localhost:8080/"
        },
        "id": "wDypsviOC_OE",
        "outputId": "95e38748-1d1c-4ffa-af52-83d086fd5141"
      },
      "source": [
        "clf = DecisionTreeClassifier(random_state = 0, criterion = 'entropy', \n",
        "                             max_depth = 4)\n",
        "clf.fit(x_train, y_train)\n",
        "\n",
        "prediction = clf.predict(x_test)\n",
        "accuracy_score(y_test, predictions)"
      ],
      "execution_count": 83,
      "outputs": [
        {
          "output_type": "execute_result",
          "data": {
            "text/plain": [
              "0.9786666666666667"
            ]
          },
          "metadata": {},
          "execution_count": 83
        }
      ]
    },
    {
      "cell_type": "markdown",
      "metadata": {
        "id": "N3800UK65eja"
      },
      "source": [
        "3.3.1 MAKING TREE CHART"
      ]
    },
    {
      "cell_type": "code",
      "metadata": {
        "colab": {
          "base_uri": "https://localhost:8080/"
        },
        "id": "y76UYANc4vRU",
        "outputId": "088cd5bc-4d60-48d1-fcc7-a20e01b28dc1"
      },
      "source": [
        "from sklearn import tree\n",
        "import graphviz\n",
        "import os\n",
        "\n",
        "os.environ['PATH'] += os.pathsep + 'C:/Program Files/Graphviz/bin/'\n",
        "\n",
        "x_train.columns"
      ],
      "execution_count": 84,
      "outputs": [
        {
          "output_type": "execute_result",
          "data": {
            "text/plain": [
              "Index(['satisfaction_level', 'last_evaluation', 'number_project',\n",
              "       'average_montly_hours', 'time_spend_company', 'Work_accident',\n",
              "       'promotion_last_5years', 'salary', 'sales_sls', 'sales_act', 'sales_hr',\n",
              "       'sales_tec', 'sales_sup', 'sales_mng', 'sales_it', 'sales_pro',\n",
              "       'sales_mrk', 'sales_rnd'],\n",
              "      dtype='object')"
            ]
          },
          "metadata": {},
          "execution_count": 84
        }
      ]
    },
    {
      "cell_type": "code",
      "metadata": {
        "colab": {
          "base_uri": "https://localhost:8080/"
        },
        "id": "rgu9EmIOfLyh",
        "outputId": "de2a5109-e731-442b-b651-7b4ca85dc5ef"
      },
      "source": [
        "clf = DecisionTreeClassifier(random_state = 0, criterion = 'entropy', max_depth = 7)\n",
        "clf.fit(x_train, y_train)\n",
        "\n",
        "predictions = clf.predict(x_test)\n",
        "accuracy_score(y_test, predictions)"
      ],
      "execution_count": 78,
      "outputs": [
        {
          "output_type": "execute_result",
          "data": {
            "text/plain": [
              "0.9786666666666667"
            ]
          },
          "metadata": {},
          "execution_count": 78
        }
      ]
    },
    {
      "cell_type": "code",
      "metadata": {
        "colab": {
          "base_uri": "https://localhost:8080/",
          "height": 777
        },
        "id": "z_Y1dsm54vda",
        "outputId": "4806b989-f97d-4b76-a2b2-cc375f593f64"
      },
      "source": [
        "dot_data= tree.export_graphviz(clf, out_file=None,\n",
        "                              feature_names = x_train.columns,\n",
        "                              class_names = ['not left', 'left'],\n",
        "                              filled = True, rounded = True,\n",
        "                              special_characters=True)\n",
        "\n",
        "tree_graphic = graphviz.Source(dot_data)\n",
        "tree_graphic"
      ],
      "execution_count": 88,
      "outputs": [
        {
          "output_type": "execute_result",
          "data": {
            "text/plain": [
              "<graphviz.files.Source at 0x7fc1834f2550>"
            ],
            "image/svg+xml": "<?xml version=\"1.0\" encoding=\"UTF-8\" standalone=\"no\"?>\n<!DOCTYPE svg PUBLIC \"-//W3C//DTD SVG 1.1//EN\"\n \"http://www.w3.org/Graphics/SVG/1.1/DTD/svg11.dtd\">\n<!-- Generated by graphviz version 2.40.1 (20161225.0304)\n -->\n<!-- Title: Tree Pages: 1 -->\n<svg width=\"1404pt\" height=\"552pt\"\n viewBox=\"0.00 0.00 1404.00 552.00\" xmlns=\"http://www.w3.org/2000/svg\" xmlns:xlink=\"http://www.w3.org/1999/xlink\">\n<g id=\"graph0\" class=\"graph\" transform=\"scale(1 1) rotate(0) translate(4 548)\">\n<title>Tree</title>\n<polygon fill=\"#ffffff\" stroke=\"transparent\" points=\"-4,4 -4,-548 1400,-548 1400,4 -4,4\"/>\n<!-- 0 -->\n<g id=\"node1\" class=\"node\">\n<title>0</title>\n<path fill=\"#eda978\" stroke=\"#000000\" d=\"M618.5,-544C618.5,-544 463.5,-544 463.5,-544 457.5,-544 451.5,-538 451.5,-532 451.5,-532 451.5,-473 451.5,-473 451.5,-467 457.5,-461 463.5,-461 463.5,-461 618.5,-461 618.5,-461 624.5,-461 630.5,-467 630.5,-473 630.5,-473 630.5,-532 630.5,-532 630.5,-538 624.5,-544 618.5,-544\"/>\n<text text-anchor=\"start\" x=\"459.5\" y=\"-528.8\" font-family=\"Helvetica,sans-Serif\" font-size=\"14.00\" fill=\"#000000\">satisfaction_level ≤ 0.465</text>\n<text text-anchor=\"start\" x=\"490\" y=\"-513.8\" font-family=\"Helvetica,sans-Serif\" font-size=\"14.00\" fill=\"#000000\">entropy = 0.795</text>\n<text text-anchor=\"start\" x=\"485\" y=\"-498.8\" font-family=\"Helvetica,sans-Serif\" font-size=\"14.00\" fill=\"#000000\">samples = 11249</text>\n<text text-anchor=\"start\" x=\"474.5\" y=\"-483.8\" font-family=\"Helvetica,sans-Serif\" font-size=\"14.00\" fill=\"#000000\">value = [8547, 2702]</text>\n<text text-anchor=\"start\" x=\"494.5\" y=\"-468.8\" font-family=\"Helvetica,sans-Serif\" font-size=\"14.00\" fill=\"#000000\">class = not left</text>\n</g>\n<!-- 1 -->\n<g id=\"node2\" class=\"node\">\n<title>1</title>\n<path fill=\"#b8dcf6\" stroke=\"#000000\" d=\"M515.5,-425C515.5,-425 360.5,-425 360.5,-425 354.5,-425 348.5,-419 348.5,-413 348.5,-413 348.5,-354 348.5,-354 348.5,-348 354.5,-342 360.5,-342 360.5,-342 515.5,-342 515.5,-342 521.5,-342 527.5,-348 527.5,-354 527.5,-354 527.5,-413 527.5,-413 527.5,-419 521.5,-425 515.5,-425\"/>\n<text text-anchor=\"start\" x=\"356.5\" y=\"-409.8\" font-family=\"Helvetica,sans-Serif\" font-size=\"14.00\" fill=\"#000000\">satisfaction_level ≤ 0.115</text>\n<text text-anchor=\"start\" x=\"387\" y=\"-394.8\" font-family=\"Helvetica,sans-Serif\" font-size=\"14.00\" fill=\"#000000\">entropy = 0.965</text>\n<text text-anchor=\"start\" x=\"386\" y=\"-379.8\" font-family=\"Helvetica,sans-Serif\" font-size=\"14.00\" fill=\"#000000\">samples = 3125</text>\n<text text-anchor=\"start\" x=\"371.5\" y=\"-364.8\" font-family=\"Helvetica,sans-Serif\" font-size=\"14.00\" fill=\"#000000\">value = [1220, 1905]</text>\n<text text-anchor=\"start\" x=\"403.5\" y=\"-349.8\" font-family=\"Helvetica,sans-Serif\" font-size=\"14.00\" fill=\"#000000\">class = left</text>\n</g>\n<!-- 0&#45;&gt;1 -->\n<g id=\"edge1\" class=\"edge\">\n<title>0&#45;&gt;1</title>\n<path fill=\"none\" stroke=\"#000000\" d=\"M504.9756,-460.8796C497.1802,-451.8733 488.8633,-442.2644 480.8356,-432.9897\"/>\n<polygon fill=\"#000000\" stroke=\"#000000\" points=\"483.3691,-430.5686 474.1782,-425.2981 478.0763,-435.1498 483.3691,-430.5686\"/>\n<text text-anchor=\"middle\" x=\"472.381\" y=\"-446.5334\" font-family=\"Helvetica,sans-Serif\" font-size=\"14.00\" fill=\"#000000\">True</text>\n</g>\n<!-- 10 -->\n<g id=\"node11\" class=\"node\">\n<title>10</title>\n<path fill=\"#e88f4f\" stroke=\"#000000\" d=\"M747,-425C747,-425 575,-425 575,-425 569,-425 563,-419 563,-413 563,-413 563,-354 563,-354 563,-348 569,-342 575,-342 575,-342 747,-342 747,-342 753,-342 759,-348 759,-354 759,-354 759,-413 759,-413 759,-419 753,-425 747,-425\"/>\n<text text-anchor=\"start\" x=\"571\" y=\"-409.8\" font-family=\"Helvetica,sans-Serif\" font-size=\"14.00\" fill=\"#000000\">time_spend_company ≤ 4.5</text>\n<text text-anchor=\"start\" x=\"610\" y=\"-394.8\" font-family=\"Helvetica,sans-Serif\" font-size=\"14.00\" fill=\"#000000\">entropy = 0.463</text>\n<text text-anchor=\"start\" x=\"609\" y=\"-379.8\" font-family=\"Helvetica,sans-Serif\" font-size=\"14.00\" fill=\"#000000\">samples = 8124</text>\n<text text-anchor=\"start\" x=\"599\" y=\"-364.8\" font-family=\"Helvetica,sans-Serif\" font-size=\"14.00\" fill=\"#000000\">value = [7327, 797]</text>\n<text text-anchor=\"start\" x=\"614.5\" y=\"-349.8\" font-family=\"Helvetica,sans-Serif\" font-size=\"14.00\" fill=\"#000000\">class = not left</text>\n</g>\n<!-- 0&#45;&gt;10 -->\n<g id=\"edge10\" class=\"edge\">\n<title>0&#45;&gt;10</title>\n<path fill=\"none\" stroke=\"#000000\" d=\"M582.9702,-460.8796C592.2338,-451.6931 602.1296,-441.8798 611.6552,-432.4336\"/>\n<polygon fill=\"#000000\" stroke=\"#000000\" points=\"614.2146,-434.8247 618.8507,-425.2981 609.2856,-429.8543 614.2146,-434.8247\"/>\n<text text-anchor=\"middle\" x=\"618.7461\" y=\"-446.5979\" font-family=\"Helvetica,sans-Serif\" font-size=\"14.00\" fill=\"#000000\">False</text>\n</g>\n<!-- 2 -->\n<g id=\"node3\" class=\"node\">\n<title>2</title>\n<path fill=\"#399de5\" stroke=\"#000000\" d=\"M331,-298.5C331,-298.5 239,-298.5 239,-298.5 233,-298.5 227,-292.5 227,-286.5 227,-286.5 227,-242.5 227,-242.5 227,-236.5 233,-230.5 239,-230.5 239,-230.5 331,-230.5 331,-230.5 337,-230.5 343,-236.5 343,-242.5 343,-242.5 343,-286.5 343,-286.5 343,-292.5 337,-298.5 331,-298.5\"/>\n<text text-anchor=\"start\" x=\"242.5\" y=\"-283.3\" font-family=\"Helvetica,sans-Serif\" font-size=\"14.00\" fill=\"#000000\">entropy = 0.0</text>\n<text text-anchor=\"start\" x=\"237\" y=\"-268.3\" font-family=\"Helvetica,sans-Serif\" font-size=\"14.00\" fill=\"#000000\">samples = 671</text>\n<text text-anchor=\"start\" x=\"235\" y=\"-253.3\" font-family=\"Helvetica,sans-Serif\" font-size=\"14.00\" fill=\"#000000\">value = [0, 671]</text>\n<text text-anchor=\"start\" x=\"250.5\" y=\"-238.3\" font-family=\"Helvetica,sans-Serif\" font-size=\"14.00\" fill=\"#000000\">class = left</text>\n</g>\n<!-- 1&#45;&gt;2 -->\n<g id=\"edge2\" class=\"edge\">\n<title>1&#45;&gt;2</title>\n<path fill=\"none\" stroke=\"#000000\" d=\"M384.488,-341.8796C369.2192,-330.0038 352.6034,-317.0804 337.4016,-305.2568\"/>\n<polygon fill=\"#000000\" stroke=\"#000000\" points=\"339.1616,-302.1916 329.1192,-298.8149 334.8639,-307.7171 339.1616,-302.1916\"/>\n</g>\n<!-- 3 -->\n<g id=\"node4\" class=\"node\">\n<title>3</title>\n<path fill=\"#fdfeff\" stroke=\"#000000\" d=\"M502.5,-306C502.5,-306 373.5,-306 373.5,-306 367.5,-306 361.5,-300 361.5,-294 361.5,-294 361.5,-235 361.5,-235 361.5,-229 367.5,-223 373.5,-223 373.5,-223 502.5,-223 502.5,-223 508.5,-223 514.5,-229 514.5,-235 514.5,-235 514.5,-294 514.5,-294 514.5,-300 508.5,-306 502.5,-306\"/>\n<text text-anchor=\"start\" x=\"369.5\" y=\"-290.8\" font-family=\"Helvetica,sans-Serif\" font-size=\"14.00\" fill=\"#000000\">number_project ≤ 2.5</text>\n<text text-anchor=\"start\" x=\"395.5\" y=\"-275.8\" font-family=\"Helvetica,sans-Serif\" font-size=\"14.00\" fill=\"#000000\">entropy = 1.0</text>\n<text text-anchor=\"start\" x=\"386\" y=\"-260.8\" font-family=\"Helvetica,sans-Serif\" font-size=\"14.00\" fill=\"#000000\">samples = 2454</text>\n<text text-anchor=\"start\" x=\"371.5\" y=\"-245.8\" font-family=\"Helvetica,sans-Serif\" font-size=\"14.00\" fill=\"#000000\">value = [1220, 1234]</text>\n<text text-anchor=\"start\" x=\"403.5\" y=\"-230.8\" font-family=\"Helvetica,sans-Serif\" font-size=\"14.00\" fill=\"#000000\">class = left</text>\n</g>\n<!-- 1&#45;&gt;3 -->\n<g id=\"edge3\" class=\"edge\">\n<title>1&#45;&gt;3</title>\n<path fill=\"none\" stroke=\"#000000\" d=\"M438,-341.8796C438,-333.6838 438,-324.9891 438,-316.5013\"/>\n<polygon fill=\"#000000\" stroke=\"#000000\" points=\"441.5001,-316.298 438,-306.2981 434.5001,-316.2981 441.5001,-316.298\"/>\n</g>\n<!-- 4 -->\n<g id=\"node5\" class=\"node\">\n<title>4</title>\n<path fill=\"#55abe9\" stroke=\"#000000\" d=\"M280,-187C280,-187 138,-187 138,-187 132,-187 126,-181 126,-175 126,-175 126,-116 126,-116 126,-110 132,-104 138,-104 138,-104 280,-104 280,-104 286,-104 292,-110 292,-116 292,-116 292,-175 292,-175 292,-181 286,-187 280,-187\"/>\n<text text-anchor=\"start\" x=\"134\" y=\"-171.8\" font-family=\"Helvetica,sans-Serif\" font-size=\"14.00\" fill=\"#000000\">last_evaluation ≤ 0.575</text>\n<text text-anchor=\"start\" x=\"158\" y=\"-156.8\" font-family=\"Helvetica,sans-Serif\" font-size=\"14.00\" fill=\"#000000\">entropy = 0.543</text>\n<text text-anchor=\"start\" x=\"157\" y=\"-141.8\" font-family=\"Helvetica,sans-Serif\" font-size=\"14.00\" fill=\"#000000\">samples = 1305</text>\n<text text-anchor=\"start\" x=\"147\" y=\"-126.8\" font-family=\"Helvetica,sans-Serif\" font-size=\"14.00\" fill=\"#000000\">value = [163, 1142]</text>\n<text text-anchor=\"start\" x=\"174.5\" y=\"-111.8\" font-family=\"Helvetica,sans-Serif\" font-size=\"14.00\" fill=\"#000000\">class = left</text>\n</g>\n<!-- 3&#45;&gt;4 -->\n<g id=\"edge4\" class=\"edge\">\n<title>3&#45;&gt;4</title>\n<path fill=\"none\" stroke=\"#000000\" d=\"M361.4279,-224.7093C341.063,-214.1266 318.8935,-202.6062 297.9293,-191.7121\"/>\n<polygon fill=\"#000000\" stroke=\"#000000\" points=\"299.5145,-188.5916 289.0271,-187.0862 296.2867,-194.803 299.5145,-188.5916\"/>\n</g>\n<!-- 7 -->\n<g id=\"node8\" class=\"node\">\n<title>7</title>\n<path fill=\"#e78c4a\" stroke=\"#000000\" d=\"M502.5,-187C502.5,-187 373.5,-187 373.5,-187 367.5,-187 361.5,-181 361.5,-175 361.5,-175 361.5,-116 361.5,-116 361.5,-110 367.5,-104 373.5,-104 373.5,-104 502.5,-104 502.5,-104 508.5,-104 514.5,-110 514.5,-116 514.5,-116 514.5,-175 514.5,-175 514.5,-181 508.5,-187 502.5,-187\"/>\n<text text-anchor=\"start\" x=\"369.5\" y=\"-171.8\" font-family=\"Helvetica,sans-Serif\" font-size=\"14.00\" fill=\"#000000\">number_project ≤ 6.5</text>\n<text text-anchor=\"start\" x=\"387\" y=\"-156.8\" font-family=\"Helvetica,sans-Serif\" font-size=\"14.00\" fill=\"#000000\">entropy = 0.402</text>\n<text text-anchor=\"start\" x=\"386\" y=\"-141.8\" font-family=\"Helvetica,sans-Serif\" font-size=\"14.00\" fill=\"#000000\">samples = 1149</text>\n<text text-anchor=\"start\" x=\"380\" y=\"-126.8\" font-family=\"Helvetica,sans-Serif\" font-size=\"14.00\" fill=\"#000000\">value = [1057, 92]</text>\n<text text-anchor=\"start\" x=\"391.5\" y=\"-111.8\" font-family=\"Helvetica,sans-Serif\" font-size=\"14.00\" fill=\"#000000\">class = not left</text>\n</g>\n<!-- 3&#45;&gt;7 -->\n<g id=\"edge7\" class=\"edge\">\n<title>3&#45;&gt;7</title>\n<path fill=\"none\" stroke=\"#000000\" d=\"M438,-222.8796C438,-214.6838 438,-205.9891 438,-197.5013\"/>\n<polygon fill=\"#000000\" stroke=\"#000000\" points=\"441.5001,-197.298 438,-187.2981 434.5001,-197.2981 441.5001,-197.298\"/>\n</g>\n<!-- 5 -->\n<g id=\"node6\" class=\"node\">\n<title>5</title>\n<path fill=\"#45a3e7\" stroke=\"#000000\" d=\"M120,-68C120,-68 12,-68 12,-68 6,-68 0,-62 0,-56 0,-56 0,-12 0,-12 0,-6 6,0 12,0 12,0 120,0 120,0 126,0 132,-6 132,-12 132,-12 132,-56 132,-56 132,-62 126,-68 120,-68\"/>\n<text text-anchor=\"start\" x=\"19\" y=\"-52.8\" font-family=\"Helvetica,sans-Serif\" font-size=\"14.00\" fill=\"#000000\">entropy = 0.31</text>\n<text text-anchor=\"start\" x=\"14\" y=\"-37.8\" font-family=\"Helvetica,sans-Serif\" font-size=\"14.00\" fill=\"#000000\">samples = 1202</text>\n<text text-anchor=\"start\" x=\"8\" y=\"-22.8\" font-family=\"Helvetica,sans-Serif\" font-size=\"14.00\" fill=\"#000000\">value = [67, 1135]</text>\n<text text-anchor=\"start\" x=\"31.5\" y=\"-7.8\" font-family=\"Helvetica,sans-Serif\" font-size=\"14.00\" fill=\"#000000\">class = left</text>\n</g>\n<!-- 4&#45;&gt;5 -->\n<g id=\"edge5\" class=\"edge\">\n<title>4&#45;&gt;5</title>\n<path fill=\"none\" stroke=\"#000000\" d=\"M155.7521,-103.9815C143.3756,-94.3313 130.2172,-84.0714 117.8997,-74.4673\"/>\n<polygon fill=\"#000000\" stroke=\"#000000\" points=\"119.9818,-71.6525 109.9435,-68.2637 115.6775,-77.1728 119.9818,-71.6525\"/>\n</g>\n<!-- 6 -->\n<g id=\"node7\" class=\"node\">\n<title>6</title>\n<path fill=\"#e78a47\" stroke=\"#000000\" d=\"M256,-68C256,-68 162,-68 162,-68 156,-68 150,-62 150,-56 150,-56 150,-12 150,-12 150,-6 156,0 162,0 162,0 256,0 256,0 262,0 268,-6 268,-12 268,-12 268,-56 268,-56 268,-62 262,-68 256,-68\"/>\n<text text-anchor=\"start\" x=\"158\" y=\"-52.8\" font-family=\"Helvetica,sans-Serif\" font-size=\"14.00\" fill=\"#000000\">entropy = 0.358</text>\n<text text-anchor=\"start\" x=\"161\" y=\"-37.8\" font-family=\"Helvetica,sans-Serif\" font-size=\"14.00\" fill=\"#000000\">samples = 103</text>\n<text text-anchor=\"start\" x=\"163.5\" y=\"-22.8\" font-family=\"Helvetica,sans-Serif\" font-size=\"14.00\" fill=\"#000000\">value = [96, 7]</text>\n<text text-anchor=\"start\" x=\"162.5\" y=\"-7.8\" font-family=\"Helvetica,sans-Serif\" font-size=\"14.00\" fill=\"#000000\">class = not left</text>\n</g>\n<!-- 4&#45;&gt;6 -->\n<g id=\"edge6\" class=\"edge\">\n<title>4&#45;&gt;6</title>\n<path fill=\"none\" stroke=\"#000000\" d=\"M209,-103.9815C209,-95.618 209,-86.7965 209,-78.3409\"/>\n<polygon fill=\"#000000\" stroke=\"#000000\" points=\"212.5001,-78.2636 209,-68.2637 205.5001,-78.2637 212.5001,-78.2636\"/>\n</g>\n<!-- 8 -->\n<g id=\"node9\" class=\"node\">\n<title>8</title>\n<path fill=\"#e78b48\" stroke=\"#000000\" d=\"M406,-68C406,-68 298,-68 298,-68 292,-68 286,-62 286,-56 286,-56 286,-12 286,-12 286,-6 292,0 298,0 298,0 406,0 406,0 412,0 418,-6 418,-12 418,-12 418,-56 418,-56 418,-62 412,-68 406,-68\"/>\n<text text-anchor=\"start\" x=\"301\" y=\"-52.8\" font-family=\"Helvetica,sans-Serif\" font-size=\"14.00\" fill=\"#000000\">entropy = 0.373</text>\n<text text-anchor=\"start\" x=\"300\" y=\"-37.8\" font-family=\"Helvetica,sans-Serif\" font-size=\"14.00\" fill=\"#000000\">samples = 1139</text>\n<text text-anchor=\"start\" x=\"294\" y=\"-22.8\" font-family=\"Helvetica,sans-Serif\" font-size=\"14.00\" fill=\"#000000\">value = [1057, 82]</text>\n<text text-anchor=\"start\" x=\"305.5\" y=\"-7.8\" font-family=\"Helvetica,sans-Serif\" font-size=\"14.00\" fill=\"#000000\">class = not left</text>\n</g>\n<!-- 7&#45;&gt;8 -->\n<g id=\"edge8\" class=\"edge\">\n<title>7&#45;&gt;8</title>\n<path fill=\"none\" stroke=\"#000000\" d=\"M405.9768,-103.9815C399.0298,-94.9747 391.6731,-85.4367 384.7004,-76.3965\"/>\n<polygon fill=\"#000000\" stroke=\"#000000\" points=\"387.3064,-74.0444 378.4276,-68.2637 381.7636,-78.3196 387.3064,-74.0444\"/>\n</g>\n<!-- 9 -->\n<g id=\"node10\" class=\"node\">\n<title>9</title>\n<path fill=\"#399de5\" stroke=\"#000000\" d=\"M531.5,-68C531.5,-68 448.5,-68 448.5,-68 442.5,-68 436.5,-62 436.5,-56 436.5,-56 436.5,-12 436.5,-12 436.5,-6 442.5,0 448.5,0 448.5,0 531.5,0 531.5,0 537.5,0 543.5,-6 543.5,-12 543.5,-12 543.5,-56 543.5,-56 543.5,-62 537.5,-68 531.5,-68\"/>\n<text text-anchor=\"start\" x=\"447.5\" y=\"-52.8\" font-family=\"Helvetica,sans-Serif\" font-size=\"14.00\" fill=\"#000000\">entropy = 0.0</text>\n<text text-anchor=\"start\" x=\"446\" y=\"-37.8\" font-family=\"Helvetica,sans-Serif\" font-size=\"14.00\" fill=\"#000000\">samples = 10</text>\n<text text-anchor=\"start\" x=\"444.5\" y=\"-22.8\" font-family=\"Helvetica,sans-Serif\" font-size=\"14.00\" fill=\"#000000\">value = [0, 10]</text>\n<text text-anchor=\"start\" x=\"455.5\" y=\"-7.8\" font-family=\"Helvetica,sans-Serif\" font-size=\"14.00\" fill=\"#000000\">class = left</text>\n</g>\n<!-- 7&#45;&gt;9 -->\n<g id=\"edge9\" class=\"edge\">\n<title>7&#45;&gt;9</title>\n<path fill=\"none\" stroke=\"#000000\" d=\"M457.3629,-103.9815C461.3919,-95.3423 465.6489,-86.2144 469.7103,-77.5059\"/>\n<polygon fill=\"#000000\" stroke=\"#000000\" points=\"472.9659,-78.8059 474.0205,-68.2637 466.6218,-75.8472 472.9659,-78.8059\"/>\n</g>\n<!-- 11 -->\n<g id=\"node12\" class=\"node\">\n<title>11</title>\n<path fill=\"#e5833c\" stroke=\"#000000\" d=\"M758,-306C758,-306 564,-306 564,-306 558,-306 552,-300 552,-294 552,-294 552,-235 552,-235 552,-229 558,-223 564,-223 564,-223 758,-223 758,-223 764,-223 770,-229 770,-235 770,-235 770,-294 770,-294 770,-300 764,-306 758,-306\"/>\n<text text-anchor=\"start\" x=\"560\" y=\"-290.8\" font-family=\"Helvetica,sans-Serif\" font-size=\"14.00\" fill=\"#000000\">average_montly_hours ≤ 290.5</text>\n<text text-anchor=\"start\" x=\"610\" y=\"-275.8\" font-family=\"Helvetica,sans-Serif\" font-size=\"14.00\" fill=\"#000000\">entropy = 0.113</text>\n<text text-anchor=\"start\" x=\"609\" y=\"-260.8\" font-family=\"Helvetica,sans-Serif\" font-size=\"14.00\" fill=\"#000000\">samples = 6638</text>\n<text text-anchor=\"start\" x=\"599\" y=\"-245.8\" font-family=\"Helvetica,sans-Serif\" font-size=\"14.00\" fill=\"#000000\">value = [6538, 100]</text>\n<text text-anchor=\"start\" x=\"614.5\" y=\"-230.8\" font-family=\"Helvetica,sans-Serif\" font-size=\"14.00\" fill=\"#000000\">class = not left</text>\n</g>\n<!-- 10&#45;&gt;11 -->\n<g id=\"edge11\" class=\"edge\">\n<title>10&#45;&gt;11</title>\n<path fill=\"none\" stroke=\"#000000\" d=\"M661,-341.8796C661,-333.6838 661,-324.9891 661,-316.5013\"/>\n<polygon fill=\"#000000\" stroke=\"#000000\" points=\"664.5001,-316.298 661,-306.2981 657.5001,-316.2981 664.5001,-316.298\"/>\n</g>\n<!-- 16 -->\n<g id=\"node17\" class=\"node\">\n<title>16</title>\n<path fill=\"#fcf0e8\" stroke=\"#000000\" d=\"M1031,-306C1031,-306 889,-306 889,-306 883,-306 877,-300 877,-294 877,-294 877,-235 877,-235 877,-229 883,-223 889,-223 889,-223 1031,-223 1031,-223 1037,-223 1043,-229 1043,-235 1043,-235 1043,-294 1043,-294 1043,-300 1037,-306 1031,-306\"/>\n<text text-anchor=\"start\" x=\"885\" y=\"-290.8\" font-family=\"Helvetica,sans-Serif\" font-size=\"14.00\" fill=\"#000000\">last_evaluation ≤ 0.815</text>\n<text text-anchor=\"start\" x=\"909\" y=\"-275.8\" font-family=\"Helvetica,sans-Serif\" font-size=\"14.00\" fill=\"#000000\">entropy = 0.997</text>\n<text text-anchor=\"start\" x=\"908\" y=\"-260.8\" font-family=\"Helvetica,sans-Serif\" font-size=\"14.00\" fill=\"#000000\">samples = 1486</text>\n<text text-anchor=\"start\" x=\"902\" y=\"-245.8\" font-family=\"Helvetica,sans-Serif\" font-size=\"14.00\" fill=\"#000000\">value = [789, 697]</text>\n<text text-anchor=\"start\" x=\"913.5\" y=\"-230.8\" font-family=\"Helvetica,sans-Serif\" font-size=\"14.00\" fill=\"#000000\">class = not left</text>\n</g>\n<!-- 10&#45;&gt;16 -->\n<g id=\"edge16\" class=\"edge\">\n<title>10&#45;&gt;16</title>\n<path fill=\"none\" stroke=\"#000000\" d=\"M759.3179,-344.3701C794.0126,-330.5619 832.8898,-315.089 867.1201,-301.4656\"/>\n<polygon fill=\"#000000\" stroke=\"#000000\" points=\"868.6474,-304.6248 876.6443,-297.675 866.0589,-298.121 868.6474,-304.6248\"/>\n</g>\n<!-- 12 -->\n<g id=\"node13\" class=\"node\">\n<title>12</title>\n<path fill=\"#e5833c\" stroke=\"#000000\" d=\"M699.5,-187C699.5,-187 570.5,-187 570.5,-187 564.5,-187 558.5,-181 558.5,-175 558.5,-175 558.5,-116 558.5,-116 558.5,-110 564.5,-104 570.5,-104 570.5,-104 699.5,-104 699.5,-104 705.5,-104 711.5,-110 711.5,-116 711.5,-116 711.5,-175 711.5,-175 711.5,-181 705.5,-187 699.5,-187\"/>\n<text text-anchor=\"start\" x=\"566.5\" y=\"-171.8\" font-family=\"Helvetica,sans-Serif\" font-size=\"14.00\" fill=\"#000000\">number_project ≤ 5.5</text>\n<text text-anchor=\"start\" x=\"584\" y=\"-156.8\" font-family=\"Helvetica,sans-Serif\" font-size=\"14.00\" fill=\"#000000\">entropy = 0.106</text>\n<text text-anchor=\"start\" x=\"583\" y=\"-141.8\" font-family=\"Helvetica,sans-Serif\" font-size=\"14.00\" fill=\"#000000\">samples = 6631</text>\n<text text-anchor=\"start\" x=\"577\" y=\"-126.8\" font-family=\"Helvetica,sans-Serif\" font-size=\"14.00\" fill=\"#000000\">value = [6538, 93]</text>\n<text text-anchor=\"start\" x=\"588.5\" y=\"-111.8\" font-family=\"Helvetica,sans-Serif\" font-size=\"14.00\" fill=\"#000000\">class = not left</text>\n</g>\n<!-- 11&#45;&gt;12 -->\n<g id=\"edge12\" class=\"edge\">\n<title>11&#45;&gt;12</title>\n<path fill=\"none\" stroke=\"#000000\" d=\"M651.9065,-222.8796C650.0961,-214.5938 648.1743,-205.798 646.3005,-197.2216\"/>\n<polygon fill=\"#000000\" stroke=\"#000000\" points=\"649.6863,-196.3205 644.1324,-187.2981 642.8476,-197.8147 649.6863,-196.3205\"/>\n</g>\n<!-- 15 -->\n<g id=\"node16\" class=\"node\">\n<title>15</title>\n<path fill=\"#399de5\" stroke=\"#000000\" d=\"M818.5,-179.5C818.5,-179.5 741.5,-179.5 741.5,-179.5 735.5,-179.5 729.5,-173.5 729.5,-167.5 729.5,-167.5 729.5,-123.5 729.5,-123.5 729.5,-117.5 735.5,-111.5 741.5,-111.5 741.5,-111.5 818.5,-111.5 818.5,-111.5 824.5,-111.5 830.5,-117.5 830.5,-123.5 830.5,-123.5 830.5,-167.5 830.5,-167.5 830.5,-173.5 824.5,-179.5 818.5,-179.5\"/>\n<text text-anchor=\"start\" x=\"737.5\" y=\"-164.3\" font-family=\"Helvetica,sans-Serif\" font-size=\"14.00\" fill=\"#000000\">entropy = 0.0</text>\n<text text-anchor=\"start\" x=\"740.5\" y=\"-149.3\" font-family=\"Helvetica,sans-Serif\" font-size=\"14.00\" fill=\"#000000\">samples = 7</text>\n<text text-anchor=\"start\" x=\"738.5\" y=\"-134.3\" font-family=\"Helvetica,sans-Serif\" font-size=\"14.00\" fill=\"#000000\">value = [0, 7]</text>\n<text text-anchor=\"start\" x=\"745.5\" y=\"-119.3\" font-family=\"Helvetica,sans-Serif\" font-size=\"14.00\" fill=\"#000000\">class = left</text>\n</g>\n<!-- 11&#45;&gt;15 -->\n<g id=\"edge15\" class=\"edge\">\n<title>11&#45;&gt;15</title>\n<path fill=\"none\" stroke=\"#000000\" d=\"M702.6204,-222.8796C714.2763,-211.2237 726.9413,-198.5587 738.5852,-186.9148\"/>\n<polygon fill=\"#000000\" stroke=\"#000000\" points=\"741.0889,-189.3609 745.6851,-179.8149 736.1391,-184.4111 741.0889,-189.3609\"/>\n</g>\n<!-- 13 -->\n<g id=\"node14\" class=\"node\">\n<title>13</title>\n<path fill=\"#e5833b\" stroke=\"#000000\" d=\"M682,-68C682,-68 574,-68 574,-68 568,-68 562,-62 562,-56 562,-56 562,-12 562,-12 562,-6 568,0 574,0 574,0 682,0 682,0 688,0 694,-6 694,-12 694,-12 694,-56 694,-56 694,-62 688,-68 682,-68\"/>\n<text text-anchor=\"start\" x=\"577\" y=\"-52.8\" font-family=\"Helvetica,sans-Serif\" font-size=\"14.00\" fill=\"#000000\">entropy = 0.093</text>\n<text text-anchor=\"start\" x=\"576\" y=\"-37.8\" font-family=\"Helvetica,sans-Serif\" font-size=\"14.00\" fill=\"#000000\">samples = 6504</text>\n<text text-anchor=\"start\" x=\"570\" y=\"-22.8\" font-family=\"Helvetica,sans-Serif\" font-size=\"14.00\" fill=\"#000000\">value = [6427, 77]</text>\n<text text-anchor=\"start\" x=\"581.5\" y=\"-7.8\" font-family=\"Helvetica,sans-Serif\" font-size=\"14.00\" fill=\"#000000\">class = not left</text>\n</g>\n<!-- 12&#45;&gt;13 -->\n<g id=\"edge13\" class=\"edge\">\n<title>12&#45;&gt;13</title>\n<path fill=\"none\" stroke=\"#000000\" d=\"M632.3935,-103.9815C631.8684,-95.618 631.3146,-86.7965 630.7837,-78.3409\"/>\n<polygon fill=\"#000000\" stroke=\"#000000\" points=\"634.2709,-78.0247 630.1511,-68.2637 627.2846,-78.4634 634.2709,-78.0247\"/>\n</g>\n<!-- 14 -->\n<g id=\"node15\" class=\"node\">\n<title>14</title>\n<path fill=\"#e99356\" stroke=\"#000000\" d=\"M824,-68C824,-68 724,-68 724,-68 718,-68 712,-62 712,-56 712,-56 712,-12 712,-12 712,-6 718,0 724,0 724,0 824,0 824,0 830,0 836,-6 836,-12 836,-12 836,-56 836,-56 836,-62 830,-68 824,-68\"/>\n<text text-anchor=\"start\" x=\"723\" y=\"-52.8\" font-family=\"Helvetica,sans-Serif\" font-size=\"14.00\" fill=\"#000000\">entropy = 0.546</text>\n<text text-anchor=\"start\" x=\"726\" y=\"-37.8\" font-family=\"Helvetica,sans-Serif\" font-size=\"14.00\" fill=\"#000000\">samples = 127</text>\n<text text-anchor=\"start\" x=\"720\" y=\"-22.8\" font-family=\"Helvetica,sans-Serif\" font-size=\"14.00\" fill=\"#000000\">value = [111, 16]</text>\n<text text-anchor=\"start\" x=\"727.5\" y=\"-7.8\" font-family=\"Helvetica,sans-Serif\" font-size=\"14.00\" fill=\"#000000\">class = not left</text>\n</g>\n<!-- 12&#45;&gt;14 -->\n<g id=\"edge14\" class=\"edge\">\n<title>12&#45;&gt;14</title>\n<path fill=\"none\" stroke=\"#000000\" d=\"M686.7585,-103.9815C698.6742,-94.4232 711.3356,-84.2668 723.2097,-74.7419\"/>\n<polygon fill=\"#000000\" stroke=\"#000000\" points=\"725.6752,-77.2511 731.2856,-68.2637 721.2951,-71.7907 725.6752,-77.2511\"/>\n</g>\n<!-- 17 -->\n<g id=\"node18\" class=\"node\">\n<title>17</title>\n<path fill=\"#e68743\" stroke=\"#000000\" d=\"M1046,-187C1046,-187 874,-187 874,-187 868,-187 862,-181 862,-175 862,-175 862,-116 862,-116 862,-110 868,-104 874,-104 874,-104 1046,-104 1046,-104 1052,-104 1058,-110 1058,-116 1058,-116 1058,-175 1058,-175 1058,-181 1052,-187 1046,-187\"/>\n<text text-anchor=\"start\" x=\"870\" y=\"-171.8\" font-family=\"Helvetica,sans-Serif\" font-size=\"14.00\" fill=\"#000000\">time_spend_company ≤ 6.5</text>\n<text text-anchor=\"start\" x=\"909\" y=\"-156.8\" font-family=\"Helvetica,sans-Serif\" font-size=\"14.00\" fill=\"#000000\">entropy = 0.282</text>\n<text text-anchor=\"start\" x=\"912\" y=\"-141.8\" font-family=\"Helvetica,sans-Serif\" font-size=\"14.00\" fill=\"#000000\">samples = 571</text>\n<text text-anchor=\"start\" x=\"906\" y=\"-126.8\" font-family=\"Helvetica,sans-Serif\" font-size=\"14.00\" fill=\"#000000\">value = [543, 28]</text>\n<text text-anchor=\"start\" x=\"913.5\" y=\"-111.8\" font-family=\"Helvetica,sans-Serif\" font-size=\"14.00\" fill=\"#000000\">class = not left</text>\n</g>\n<!-- 16&#45;&gt;17 -->\n<g id=\"edge17\" class=\"edge\">\n<title>16&#45;&gt;17</title>\n<path fill=\"none\" stroke=\"#000000\" d=\"M960,-222.8796C960,-214.6838 960,-205.9891 960,-197.5013\"/>\n<polygon fill=\"#000000\" stroke=\"#000000\" points=\"963.5001,-197.298 960,-187.2981 956.5001,-197.2981 963.5001,-197.298\"/>\n</g>\n<!-- 20 -->\n<g id=\"node21\" class=\"node\">\n<title>20</title>\n<path fill=\"#82c1ef\" stroke=\"#000000\" d=\"M1289,-187C1289,-187 1095,-187 1095,-187 1089,-187 1083,-181 1083,-175 1083,-175 1083,-116 1083,-116 1083,-110 1089,-104 1095,-104 1095,-104 1289,-104 1289,-104 1295,-104 1301,-110 1301,-116 1301,-116 1301,-175 1301,-175 1301,-181 1295,-187 1289,-187\"/>\n<text text-anchor=\"start\" x=\"1091\" y=\"-171.8\" font-family=\"Helvetica,sans-Serif\" font-size=\"14.00\" fill=\"#000000\">average_montly_hours ≤ 216.5</text>\n<text text-anchor=\"start\" x=\"1145\" y=\"-156.8\" font-family=\"Helvetica,sans-Serif\" font-size=\"14.00\" fill=\"#000000\">entropy = 0.84</text>\n<text text-anchor=\"start\" x=\"1144\" y=\"-141.8\" font-family=\"Helvetica,sans-Serif\" font-size=\"14.00\" fill=\"#000000\">samples = 915</text>\n<text text-anchor=\"start\" x=\"1134\" y=\"-126.8\" font-family=\"Helvetica,sans-Serif\" font-size=\"14.00\" fill=\"#000000\">value = [246, 669]</text>\n<text text-anchor=\"start\" x=\"1157.5\" y=\"-111.8\" font-family=\"Helvetica,sans-Serif\" font-size=\"14.00\" fill=\"#000000\">class = left</text>\n</g>\n<!-- 16&#45;&gt;20 -->\n<g id=\"edge20\" class=\"edge\">\n<title>16&#45;&gt;20</title>\n<path fill=\"none\" stroke=\"#000000\" d=\"M1041.1423,-222.8796C1060.7456,-212.8244 1081.8131,-202.0183 1101.8036,-191.7645\"/>\n<polygon fill=\"#000000\" stroke=\"#000000\" points=\"1103.6031,-194.7751 1110.9035,-187.0969 1100.4083,-188.5467 1103.6031,-194.7751\"/>\n</g>\n<!-- 18 -->\n<g id=\"node19\" class=\"node\">\n<title>18</title>\n<path fill=\"#e78c4a\" stroke=\"#000000\" d=\"M966,-68C966,-68 866,-68 866,-68 860,-68 854,-62 854,-56 854,-56 854,-12 854,-12 854,-6 860,0 866,0 866,0 966,0 966,0 972,0 978,-6 978,-12 978,-12 978,-56 978,-56 978,-62 972,-68 966,-68\"/>\n<text text-anchor=\"start\" x=\"865\" y=\"-52.8\" font-family=\"Helvetica,sans-Serif\" font-size=\"14.00\" fill=\"#000000\">entropy = 0.403</text>\n<text text-anchor=\"start\" x=\"868\" y=\"-37.8\" font-family=\"Helvetica,sans-Serif\" font-size=\"14.00\" fill=\"#000000\">samples = 349</text>\n<text text-anchor=\"start\" x=\"862\" y=\"-22.8\" font-family=\"Helvetica,sans-Serif\" font-size=\"14.00\" fill=\"#000000\">value = [321, 28]</text>\n<text text-anchor=\"start\" x=\"869.5\" y=\"-7.8\" font-family=\"Helvetica,sans-Serif\" font-size=\"14.00\" fill=\"#000000\">class = not left</text>\n</g>\n<!-- 17&#45;&gt;18 -->\n<g id=\"edge18\" class=\"edge\">\n<title>17&#45;&gt;18</title>\n<path fill=\"none\" stroke=\"#000000\" d=\"M943.616,-103.9815C940.2431,-95.4342 936.6814,-86.4086 933.278,-77.7839\"/>\n<polygon fill=\"#000000\" stroke=\"#000000\" points=\"936.4475,-76.2808 929.5211,-68.2637 929.9362,-78.8504 936.4475,-76.2808\"/>\n</g>\n<!-- 19 -->\n<g id=\"node20\" class=\"node\">\n<title>19</title>\n<path fill=\"#e58139\" stroke=\"#000000\" d=\"M1100,-68C1100,-68 1008,-68 1008,-68 1002,-68 996,-62 996,-56 996,-56 996,-12 996,-12 996,-6 1002,0 1008,0 1008,0 1100,0 1100,0 1106,0 1112,-6 1112,-12 1112,-12 1112,-56 1112,-56 1112,-62 1106,-68 1100,-68\"/>\n<text text-anchor=\"start\" x=\"1011.5\" y=\"-52.8\" font-family=\"Helvetica,sans-Serif\" font-size=\"14.00\" fill=\"#000000\">entropy = 0.0</text>\n<text text-anchor=\"start\" x=\"1006\" y=\"-37.8\" font-family=\"Helvetica,sans-Serif\" font-size=\"14.00\" fill=\"#000000\">samples = 222</text>\n<text text-anchor=\"start\" x=\"1004\" y=\"-22.8\" font-family=\"Helvetica,sans-Serif\" font-size=\"14.00\" fill=\"#000000\">value = [222, 0]</text>\n<text text-anchor=\"start\" x=\"1007.5\" y=\"-7.8\" font-family=\"Helvetica,sans-Serif\" font-size=\"14.00\" fill=\"#000000\">class = not left</text>\n</g>\n<!-- 17&#45;&gt;19 -->\n<g id=\"edge19\" class=\"edge\">\n<title>17&#45;&gt;19</title>\n<path fill=\"none\" stroke=\"#000000\" d=\"M995.0021,-103.9815C1002.6728,-94.8828 1010.8005,-85.242 1018.4909,-76.1199\"/>\n<polygon fill=\"#000000\" stroke=\"#000000\" points=\"1021.3444,-78.1652 1025.114,-68.2637 1015.9925,-73.6533 1021.3444,-78.1652\"/>\n</g>\n<!-- 21 -->\n<g id=\"node22\" class=\"node\">\n<title>21</title>\n<path fill=\"#e78b48\" stroke=\"#000000\" d=\"M1242,-68C1242,-68 1142,-68 1142,-68 1136,-68 1130,-62 1130,-56 1130,-56 1130,-12 1130,-12 1130,-6 1136,0 1142,0 1142,0 1242,0 1242,0 1248,0 1254,-6 1254,-12 1254,-12 1254,-56 1254,-56 1254,-62 1248,-68 1242,-68\"/>\n<text text-anchor=\"start\" x=\"1145\" y=\"-52.8\" font-family=\"Helvetica,sans-Serif\" font-size=\"14.00\" fill=\"#000000\">entropy = 0.37</text>\n<text text-anchor=\"start\" x=\"1144\" y=\"-37.8\" font-family=\"Helvetica,sans-Serif\" font-size=\"14.00\" fill=\"#000000\">samples = 169</text>\n<text text-anchor=\"start\" x=\"1138\" y=\"-22.8\" font-family=\"Helvetica,sans-Serif\" font-size=\"14.00\" fill=\"#000000\">value = [157, 12]</text>\n<text text-anchor=\"start\" x=\"1145.5\" y=\"-7.8\" font-family=\"Helvetica,sans-Serif\" font-size=\"14.00\" fill=\"#000000\">class = not left</text>\n</g>\n<!-- 20&#45;&gt;21 -->\n<g id=\"edge21\" class=\"edge\">\n<title>20&#45;&gt;21</title>\n<path fill=\"none\" stroke=\"#000000\" d=\"M1192,-103.9815C1192,-95.618 1192,-86.7965 1192,-78.3409\"/>\n<polygon fill=\"#000000\" stroke=\"#000000\" points=\"1195.5001,-78.2636 1192,-68.2637 1188.5001,-78.2637 1195.5001,-78.2636\"/>\n</g>\n<!-- 22 -->\n<g id=\"node23\" class=\"node\">\n<title>22</title>\n<path fill=\"#54aae9\" stroke=\"#000000\" d=\"M1384,-68C1384,-68 1284,-68 1284,-68 1278,-68 1272,-62 1272,-56 1272,-56 1272,-12 1272,-12 1272,-6 1278,0 1284,0 1284,0 1384,0 1384,0 1390,0 1396,-6 1396,-12 1396,-12 1396,-56 1396,-56 1396,-62 1390,-68 1384,-68\"/>\n<text text-anchor=\"start\" x=\"1283\" y=\"-52.8\" font-family=\"Helvetica,sans-Serif\" font-size=\"14.00\" fill=\"#000000\">entropy = 0.527</text>\n<text text-anchor=\"start\" x=\"1286\" y=\"-37.8\" font-family=\"Helvetica,sans-Serif\" font-size=\"14.00\" fill=\"#000000\">samples = 746</text>\n<text text-anchor=\"start\" x=\"1280\" y=\"-22.8\" font-family=\"Helvetica,sans-Serif\" font-size=\"14.00\" fill=\"#000000\">value = [89, 657]</text>\n<text text-anchor=\"start\" x=\"1299.5\" y=\"-7.8\" font-family=\"Helvetica,sans-Serif\" font-size=\"14.00\" fill=\"#000000\">class = left</text>\n</g>\n<!-- 20&#45;&gt;22 -->\n<g id=\"edge22\" class=\"edge\">\n<title>20&#45;&gt;22</title>\n<path fill=\"none\" stroke=\"#000000\" d=\"M1244.8756,-103.9815C1257.1655,-94.3313 1270.2319,-84.0714 1282.4632,-74.4673\"/>\n<polygon fill=\"#000000\" stroke=\"#000000\" points=\"1284.6602,-77.1923 1290.3638,-68.2637 1280.3371,-71.6867 1284.6602,-77.1923\"/>\n</g>\n</g>\n</svg>\n"
          },
          "metadata": {},
          "execution_count": 88
        }
      ]
    },
    {
      "cell_type": "code",
      "metadata": {
        "id": "LXc-2IgHfETn"
      },
      "source": [
        ""
      ],
      "execution_count": null,
      "outputs": []
    },
    {
      "cell_type": "code",
      "metadata": {
        "id": "7SP7uvD1fEWW"
      },
      "source": [
        ""
      ],
      "execution_count": null,
      "outputs": []
    },
    {
      "cell_type": "code",
      "metadata": {
        "id": "jkmZYF2FC_Qx"
      },
      "source": [
        ""
      ],
      "execution_count": null,
      "outputs": []
    }
  ]
}